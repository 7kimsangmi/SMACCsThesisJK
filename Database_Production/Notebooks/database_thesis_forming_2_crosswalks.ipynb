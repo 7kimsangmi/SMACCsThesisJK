{
 "cells": [
  {
   "cell_type": "code",
   "execution_count": 2,
   "id": "82801b82",
   "metadata": {},
   "outputs": [],
   "source": [
    "# Set up all packages that may be used\n",
    "\n",
    "import pandas as pd\n",
    "import sys\n",
    "import numpy as np\n",
    "import scipy as sp\n",
    "import pickle\n",
    "import os\n",
    "\n",
    "import matplotlib.pyplot as plt\n",
    "from math import radians, cos, sin, asin, sqrt\n",
    "import datetime\n",
    "from sklearn.linear_model import LinearRegression\n",
    "import seaborn as sns\n",
    "sns.set(style=\"ticks\")\n",
    "%matplotlib inline\n",
    "\n",
    "pd.set_option('display.max_columns', None)"
   ]
  },
  {
   "cell_type": "markdown",
   "id": "fb43f073",
   "metadata": {},
   "source": [
    "# Establish crosswalk multipliers\n",
    "\n",
    "A large assumption is being made that the GEOIDs remain consistent across the years (where applicable). That is, GEOID of a block group 100030001001 refers to the same block group (roughly speaking) geographically for GEOID 100030001001 in year 2020.\n",
    "\n",
    "## 1990 >> 2020\n",
    "### Transforming 1990 to 2020 data using 1990-2010 and 2010-2020 crosswalks"
   ]
  },
  {
   "cell_type": "code",
   "execution_count": 2,
   "id": "8743d2b8",
   "metadata": {},
   "outputs": [],
   "source": [
    "folder = r\"C:\\\\Users\\\\jenki\\\\Documents\\\\School\\\\Thesis\\\\Data\\\\NHGIS Data\\\\Crosswalks\\\\GEOID\\\\\""
   ]
  },
  {
   "cell_type": "markdown",
   "id": "35637a1b",
   "metadata": {},
   "source": [
    "#### Read in cleaned 1990-2010 crosswalk file and establish BG geoids"
   ]
  },
  {
   "cell_type": "code",
   "execution_count": 3,
   "id": "fe9faf7a",
   "metadata": {
    "scrolled": true
   },
   "outputs": [
    {
     "data": {
      "text/html": [
       "<div>\n",
       "<style scoped>\n",
       "    .dataframe tbody tr th:only-of-type {\n",
       "        vertical-align: middle;\n",
       "    }\n",
       "\n",
       "    .dataframe tbody tr th {\n",
       "        vertical-align: top;\n",
       "    }\n",
       "\n",
       "    .dataframe thead th {\n",
       "        text-align: right;\n",
       "    }\n",
       "</style>\n",
       "<table border=\"1\" class=\"dataframe\">\n",
       "  <thead>\n",
       "    <tr style=\"text-align: right;\">\n",
       "      <th></th>\n",
       "      <th>GEOID90</th>\n",
       "      <th>GEOID10</th>\n",
       "      <th>WEIGHT</th>\n",
       "      <th>PAREA_VIA_BLK00</th>\n",
       "    </tr>\n",
       "  </thead>\n",
       "  <tbody>\n",
       "    <tr>\n",
       "      <th>0</th>\n",
       "      <td>10003000100101</td>\n",
       "      <td>100030028001000</td>\n",
       "      <td>0.255638</td>\n",
       "      <td>0.255638</td>\n",
       "    </tr>\n",
       "    <tr>\n",
       "      <th>1</th>\n",
       "      <td>10003000100101</td>\n",
       "      <td>100030028001001</td>\n",
       "      <td>0.744362</td>\n",
       "      <td>0.744362</td>\n",
       "    </tr>\n",
       "  </tbody>\n",
       "</table>\n",
       "</div>"
      ],
      "text/plain": [
       "          GEOID90          GEOID10    WEIGHT  PAREA_VIA_BLK00\n",
       "0  10003000100101  100030028001000  0.255638         0.255638\n",
       "1  10003000100101  100030028001001  0.744362         0.744362"
      ]
     },
     "execution_count": 3,
     "metadata": {},
     "output_type": "execute_result"
    }
   ],
   "source": [
    "crosswalks90 = pd.read_csv(folder+\"1990-2010\\\\cleanedcrosswalks_1990-2010.csv\")"
   ]
  },
  {
   "cell_type": "code",
   "execution_count": 4,
   "id": "64bd0e51",
   "metadata": {},
   "outputs": [],
   "source": [
    "crosswalks90.drop('PAREA_VIA_BLK00', axis=1, inplace=True)\n",
    "crosswalks90 = crosswalks90.astype({'GEOID90': str, 'GEOID10': str})"
   ]
  },
  {
   "cell_type": "code",
   "execution_count": 5,
   "id": "cbc9f1b9",
   "metadata": {},
   "outputs": [],
   "source": [
    "crosswalks90['GEOID90BG'] = crosswalks90['GEOID90'].str[:12]\n",
    "crosswalks90['GEOID10BG'] = crosswalks90['GEOID10'].str[:12]"
   ]
  },
  {
   "cell_type": "code",
   "execution_count": 6,
   "id": "dee1ac73",
   "metadata": {
    "scrolled": true
   },
   "outputs": [
    {
     "data": {
      "text/html": [
       "<div>\n",
       "<style scoped>\n",
       "    .dataframe tbody tr th:only-of-type {\n",
       "        vertical-align: middle;\n",
       "    }\n",
       "\n",
       "    .dataframe tbody tr th {\n",
       "        vertical-align: top;\n",
       "    }\n",
       "\n",
       "    .dataframe thead th {\n",
       "        text-align: right;\n",
       "    }\n",
       "</style>\n",
       "<table border=\"1\" class=\"dataframe\">\n",
       "  <thead>\n",
       "    <tr style=\"text-align: right;\">\n",
       "      <th></th>\n",
       "      <th>GEOID90</th>\n",
       "      <th>GEOID10</th>\n",
       "      <th>WEIGHT</th>\n",
       "      <th>GEOID90BG</th>\n",
       "      <th>GEOID10BG</th>\n",
       "    </tr>\n",
       "  </thead>\n",
       "  <tbody>\n",
       "    <tr>\n",
       "      <th>0</th>\n",
       "      <td>10003000100101</td>\n",
       "      <td>100030028001000</td>\n",
       "      <td>0.255638</td>\n",
       "      <td>100030001001</td>\n",
       "      <td>100030028001</td>\n",
       "    </tr>\n",
       "    <tr>\n",
       "      <th>1</th>\n",
       "      <td>10003000100101</td>\n",
       "      <td>100030028001001</td>\n",
       "      <td>0.744362</td>\n",
       "      <td>100030001001</td>\n",
       "      <td>100030028001</td>\n",
       "    </tr>\n",
       "  </tbody>\n",
       "</table>\n",
       "</div>"
      ],
      "text/plain": [
       "          GEOID90          GEOID10    WEIGHT     GEOID90BG     GEOID10BG\n",
       "0  10003000100101  100030028001000  0.255638  100030001001  100030028001\n",
       "1  10003000100101  100030028001001  0.744362  100030001001  100030028001"
      ]
     },
     "execution_count": 6,
     "metadata": {},
     "output_type": "execute_result"
    }
   ],
   "source": [
    "crosswalks90.head(2)"
   ]
  },
  {
   "cell_type": "markdown",
   "id": "4cb693ce",
   "metadata": {},
   "source": [
    "Check to confirm number of BG geoids for 1990 matches the one in 1990 database"
   ]
  },
  {
   "cell_type": "code",
   "execution_count": 7,
   "id": "6e9dffd8",
   "metadata": {},
   "outputs": [],
   "source": [
    "checking90 = pd.read_excel(\"C:\\\\Users\\\\jenki\\\\Documents\\\\School\\\\Thesis\\\\Data\\\\NHGIS Data\\\\1990\\\\nhgis_1990_clean.xlsx\", sheet_name=\"compiled\", usecols=[\"geoid\"])"
   ]
  },
  {
   "cell_type": "code",
   "execution_count": 8,
   "id": "0de3e570",
   "metadata": {},
   "outputs": [],
   "source": [
    "checking90['geoidBG'] = checking90['geoid'].str[7:] "
   ]
  },
  {
   "cell_type": "code",
   "execution_count": 9,
   "id": "e0305484",
   "metadata": {
    "scrolled": true
   },
   "outputs": [
    {
     "data": {
      "text/html": [
       "<div>\n",
       "<style scoped>\n",
       "    .dataframe tbody tr th:only-of-type {\n",
       "        vertical-align: middle;\n",
       "    }\n",
       "\n",
       "    .dataframe tbody tr th {\n",
       "        vertical-align: top;\n",
       "    }\n",
       "\n",
       "    .dataframe thead th {\n",
       "        text-align: right;\n",
       "    }\n",
       "</style>\n",
       "<table border=\"1\" class=\"dataframe\">\n",
       "  <thead>\n",
       "    <tr style=\"text-align: right;\">\n",
       "      <th></th>\n",
       "      <th>geoid</th>\n",
       "      <th>geoidBG</th>\n",
       "    </tr>\n",
       "  </thead>\n",
       "  <tbody>\n",
       "    <tr>\n",
       "      <th>0</th>\n",
       "      <td>15000US100030001001</td>\n",
       "      <td>100030001001</td>\n",
       "    </tr>\n",
       "    <tr>\n",
       "      <th>1</th>\n",
       "      <td>15000US100030001002</td>\n",
       "      <td>100030001002</td>\n",
       "    </tr>\n",
       "  </tbody>\n",
       "</table>\n",
       "</div>"
      ],
      "text/plain": [
       "                 geoid       geoidBG\n",
       "0  15000US100030001001  100030001001\n",
       "1  15000US100030001002  100030001002"
      ]
     },
     "execution_count": 9,
     "metadata": {},
     "output_type": "execute_result"
    }
   ],
   "source": [
    "checking90.head(2)"
   ]
  },
  {
   "cell_type": "code",
   "execution_count": 10,
   "id": "791d3d1b",
   "metadata": {},
   "outputs": [
    {
     "data": {
      "text/plain": [
       "True"
      ]
     },
     "execution_count": 10,
     "metadata": {},
     "output_type": "execute_result"
    }
   ],
   "source": [
    "len(checking90.geoidBG.unique()) == len(crosswalks90.GEOID90BG.unique())"
   ]
  },
  {
   "cell_type": "markdown",
   "id": "e2a9559c",
   "metadata": {},
   "source": [
    "#### Read in cleaned 2010-2020 crosswalk file and establish BG geoids"
   ]
  },
  {
   "cell_type": "code",
   "execution_count": 11,
   "id": "9061e82d",
   "metadata": {},
   "outputs": [],
   "source": [
    "crosswalks10 = pd.read_csv(folder+\"2010-2020\\\\cleanedcrosswalks_2010-2020.csv\")\n",
    "# crosswalks10.head(2)"
   ]
  },
  {
   "cell_type": "code",
   "execution_count": 12,
   "id": "566d5b23",
   "metadata": {},
   "outputs": [
    {
     "data": {
      "text/html": [
       "<div>\n",
       "<style scoped>\n",
       "    .dataframe tbody tr th:only-of-type {\n",
       "        vertical-align: middle;\n",
       "    }\n",
       "\n",
       "    .dataframe tbody tr th {\n",
       "        vertical-align: top;\n",
       "    }\n",
       "\n",
       "    .dataframe thead th {\n",
       "        text-align: right;\n",
       "    }\n",
       "</style>\n",
       "<table border=\"1\" class=\"dataframe\">\n",
       "  <thead>\n",
       "    <tr style=\"text-align: right;\">\n",
       "      <th></th>\n",
       "      <th>GEOID10</th>\n",
       "      <th>GEOID20</th>\n",
       "      <th>WEIGHT</th>\n",
       "      <th>GEOID10BG</th>\n",
       "      <th>GEOID20BG</th>\n",
       "    </tr>\n",
       "  </thead>\n",
       "  <tbody>\n",
       "    <tr>\n",
       "      <th>0</th>\n",
       "      <td>100030002001000</td>\n",
       "      <td>100030002001000</td>\n",
       "      <td>1.0</td>\n",
       "      <td>100030002001</td>\n",
       "      <td>100030002001</td>\n",
       "    </tr>\n",
       "    <tr>\n",
       "      <th>1</th>\n",
       "      <td>100030002001001</td>\n",
       "      <td>100030002001001</td>\n",
       "      <td>1.0</td>\n",
       "      <td>100030002001</td>\n",
       "      <td>100030002001</td>\n",
       "    </tr>\n",
       "    <tr>\n",
       "      <th>2</th>\n",
       "      <td>100030002001002</td>\n",
       "      <td>100030002001002</td>\n",
       "      <td>1.0</td>\n",
       "      <td>100030002001</td>\n",
       "      <td>100030002001</td>\n",
       "    </tr>\n",
       "    <tr>\n",
       "      <th>3</th>\n",
       "      <td>100030002001003</td>\n",
       "      <td>100030002001003</td>\n",
       "      <td>1.0</td>\n",
       "      <td>100030002001</td>\n",
       "      <td>100030002001</td>\n",
       "    </tr>\n",
       "    <tr>\n",
       "      <th>4</th>\n",
       "      <td>100030002001004</td>\n",
       "      <td>100030002001003</td>\n",
       "      <td>1.0</td>\n",
       "      <td>100030002001</td>\n",
       "      <td>100030002001</td>\n",
       "    </tr>\n",
       "  </tbody>\n",
       "</table>\n",
       "</div>"
      ],
      "text/plain": [
       "           GEOID10          GEOID20  WEIGHT     GEOID10BG     GEOID20BG\n",
       "0  100030002001000  100030002001000     1.0  100030002001  100030002001\n",
       "1  100030002001001  100030002001001     1.0  100030002001  100030002001\n",
       "2  100030002001002  100030002001002     1.0  100030002001  100030002001\n",
       "3  100030002001003  100030002001003     1.0  100030002001  100030002001\n",
       "4  100030002001004  100030002001003     1.0  100030002001  100030002001"
      ]
     },
     "execution_count": 12,
     "metadata": {},
     "output_type": "execute_result"
    }
   ],
   "source": [
    "crosswalks10.drop('PAREA', axis=1, inplace=True)\n",
    "crosswalks10 = crosswalks10.astype({'GEOID10': str, 'GEOID20': str})\n",
    "crosswalks10['GEOID10BG'] = crosswalks10['GEOID10'].str[:12]\n",
    "crosswalks10['GEOID20BG'] = crosswalks10['GEOID20'].str[:12]\n",
    "crosswalks10.head()"
   ]
  },
  {
   "cell_type": "markdown",
   "id": "1f4d8086",
   "metadata": {},
   "source": [
    "Check to confirm number of BG geoids matches the one in 2010 database"
   ]
  },
  {
   "cell_type": "code",
   "execution_count": 13,
   "id": "a7dbbb93",
   "metadata": {},
   "outputs": [],
   "source": [
    "checking10 = pd.read_excel(\"C:\\\\Users\\\\jenki\\\\Documents\\\\School\\\\Thesis\\\\Data\\\\NHGIS Data\\\\2010\\\\nhgis_2010_clean.xlsx\", sheet_name=\"compiled\", usecols=[\"geoid\"])"
   ]
  },
  {
   "cell_type": "code",
   "execution_count": 14,
   "id": "ec6f2420",
   "metadata": {},
   "outputs": [],
   "source": [
    "checking10['geoidBG'] = checking10['geoid'].str[7:] "
   ]
  },
  {
   "cell_type": "code",
   "execution_count": 15,
   "id": "f1e531a5",
   "metadata": {},
   "outputs": [
    {
     "data": {
      "text/plain": [
       "True"
      ]
     },
     "execution_count": 15,
     "metadata": {},
     "output_type": "execute_result"
    }
   ],
   "source": [
    "len(checking10.geoidBG.unique()) == len(crosswalks10.GEOID10BG.unique())"
   ]
  },
  {
   "cell_type": "markdown",
   "id": "0279e4e2",
   "metadata": {},
   "source": [
    "#### 1990-2010 to 2010-2020 join\n",
    "Join 1990-2010 data to 2010-2020 data based on GEO10 Blocks (GEOID10). Fill NaN values with 1 and multiply the two crosswalk multipliers together to obtain multiplier value."
   ]
  },
  {
   "cell_type": "code",
   "execution_count": 16,
   "id": "7601ec1f",
   "metadata": {},
   "outputs": [],
   "source": [
    "transform90 = crosswalks90.merge(crosswalks10, left_on='GEOID10', right_on='GEOID10', how='left')\n",
    "transform90['WEIGHT_y'].fillna(1,inplace=True)\n",
    "transform90['WEIGHT'] = transform90['WEIGHT_x']*transform90['WEIGHT_y']"
   ]
  },
  {
   "cell_type": "raw",
   "id": "9d44ae26",
   "metadata": {},
   "source": [
    "#### Extract multipliers (weights) for GEOID90 standardized to 2020\n",
    "Group GEOID90BG by max weight (!!assumption. since multiple blocks per group...)"
   ]
  },
  {
   "cell_type": "code",
   "execution_count": 17,
   "id": "80b0cc80",
   "metadata": {},
   "outputs": [],
   "source": [
    "# print(transform90.groupby('GEOID90BG').ngroups)\n",
    "# returns 17380"
   ]
  },
  {
   "cell_type": "code",
   "execution_count": 18,
   "id": "bb423a18",
   "metadata": {},
   "outputs": [
    {
     "name": "stdout",
     "output_type": "stream",
     "text": [
      "                           WEIGHT\n",
      "GEOID90BG    GEOID20BG           \n",
      "100030001001 100030028001     1.0\n",
      "100030001002 100030028001     1.0\n",
      "             100030028002     1.0\n",
      "100030001003 100030028002     1.0\n",
      "100030001004 100030028001     1.0\n",
      "...                           ...\n",
      "540439558003 540439555004     1.0\n",
      "             540439558003     1.0\n",
      "             540439558004     0.0\n",
      "540439558004 540439558003     1.0\n",
      "             540439558004     1.0\n",
      "\n",
      "[33873 rows x 1 columns]\n"
     ]
    }
   ],
   "source": [
    "weights = transform90.groupby(['GEOID90BG','GEOID20BG']).agg({'WEIGHT':'max'}, as_index=False)\n",
    "print(weights)"
   ]
  },
  {
   "cell_type": "code",
   "execution_count": 19,
   "id": "ee9f6fd8",
   "metadata": {},
   "outputs": [],
   "source": [
    "weights.reset_index(inplace=True)"
   ]
  },
  {
   "cell_type": "code",
   "execution_count": 20,
   "id": "1c98dba6",
   "metadata": {},
   "outputs": [
    {
     "data": {
      "text/plain": [
       "GEOID90BG    False\n",
       "GEOID20BG    False\n",
       "WEIGHT       False\n",
       "dtype: bool"
      ]
     },
     "execution_count": 20,
     "metadata": {},
     "output_type": "execute_result"
    }
   ],
   "source": [
    "# Check for any null or na values in the multipliers dataframe. \n",
    "weights.isnull().any()\n",
    "\n",
    "# Returns\n",
    "# GEOID90BG    False\n",
    "# GEOID20BG    False\n",
    "# WEIGHT       False\n",
    "# dtype: bool"
   ]
  },
  {
   "cell_type": "code",
   "execution_count": 21,
   "id": "68508674",
   "metadata": {},
   "outputs": [],
   "source": [
    "# # If there were any true, we would count number of null/na values in the multipliers dataframe\n",
    "# weights.isna().sum().sum()\n",
    "# # Remove rows with na\n",
    "# weights.dropna(inplace=True)"
   ]
  },
  {
   "cell_type": "code",
   "execution_count": 22,
   "id": "27c4220c",
   "metadata": {},
   "outputs": [],
   "source": [
    "weights.to_csv(folder + \"CrosswalkMultipliers\\\\multiplierweights90-20.csv\",index=False)"
   ]
  },
  {
   "cell_type": "markdown",
   "id": "b5ada5a1",
   "metadata": {},
   "source": [
    "## Check to see how the crosswalks transformation works using 2010 census data."
   ]
  },
  {
   "cell_type": "code",
   "execution_count": 23,
   "id": "3e7b150a",
   "metadata": {},
   "outputs": [],
   "source": [
    "# folder = r\"C:\\\\Users\\\\jenki\\\\Documents\\\\School\\\\Thesis\\\\Data\\NHGIS Data\\\\\"\n",
    "# indicators = ['population', 'totalcivilianlaborforce','unemployedpopulation','totalhousingunits','vacanthousingunit']\n",
    "# attributes = ['year','geoid','tract','state','county','msa','medianhouseholdincome','percapitaincome','mediancontractrent','mediangrossrent','medianhomevalue']\n",
    "# usecols = indicators+attributes"
   ]
  },
  {
   "cell_type": "code",
   "execution_count": 24,
   "id": "56313ad8",
   "metadata": {},
   "outputs": [],
   "source": [
    "# DEdata10 = pd.read_csv(folder+\"Book2.csv\", usecols=usecols)\n",
    "# DEdata10 = DEdata10.fillna(0)\n",
    "# DEdata10['geoid'] = DEdata10['geoid'].str[7:]\n",
    "# len(DEdata10)"
   ]
  },
  {
   "cell_type": "code",
   "execution_count": 25,
   "id": "26038815",
   "metadata": {},
   "outputs": [],
   "source": [
    "# crosswalks = pd.read_csv(folder+\"nhgis_bg2010_bg2020_10\\\\nhgis_bg2010_bg2020_10.csv\", usecols={'bg2010ge','bg2020ge','wt_pop'})\n",
    "# crosswalks = crosswalks.fillna(0)\n",
    "# crosswalks = crosswalks.astype({'bg2010ge':str, 'bg2020ge':str})\n",
    "# crosswalks.rename(columns={'wt_pop':'weight'},inplace=True)\n",
    "# len(crosswalks)"
   ]
  },
  {
   "cell_type": "code",
   "execution_count": 26,
   "id": "1a98ba45",
   "metadata": {},
   "outputs": [],
   "source": [
    "# merge = DEdata10.merge(crosswalks, left_on='geoid', right_on='bg2010ge', how='inner')"
   ]
  },
  {
   "cell_type": "code",
   "execution_count": 27,
   "id": "d123e795",
   "metadata": {},
   "outputs": [],
   "source": [
    "# for x in indicators:\n",
    "#     merge[x]= merge[x]*merge['weight']"
   ]
  },
  {
   "cell_type": "code",
   "execution_count": 28,
   "id": "faa32570",
   "metadata": {},
   "outputs": [],
   "source": [
    "# merge = merge[merge['population'] >= 1]year"
   ]
  },
  {
   "cell_type": "code",
   "execution_count": 29,
   "id": "a7983d04",
   "metadata": {},
   "outputs": [],
   "source": [
    "# merge['year'] = merge['year'].astype('datetime64[ns]')\n",
    "# merge['tract'] = merge['tract'].astype('object')\n",
    "# merge.dtypes"
   ]
  },
  {
   "cell_type": "code",
   "execution_count": 30,
   "id": "8f26b4d8",
   "metadata": {},
   "outputs": [],
   "source": [
    "# group = merge.groupby(['bg2010ge']).agg({'bg2020ge':'max', 'year':'max','msa':'max','state':'max','county':'max','tract':'max',\n",
    "#                                          'population':'sum', 'totalcivilianlaborforce':'sum', 'unemployedpopulation':'sum',\n",
    "#                                          'totalhousingunits':'sum', 'vacanthousingunit':'sum',\n",
    "#                                          'medianhouseholdincome':'max', 'percapitaincome':'max','mediancontractrent':'max', 'mediangrossrent':'max', 'medianhomevalue':'max',\n",
    "#                                          })"
   ]
  },
  {
   "cell_type": "code",
   "execution_count": 31,
   "id": "e16cdbe9",
   "metadata": {},
   "outputs": [],
   "source": [
    "# group.reset_index(inplace=True)"
   ]
  },
  {
   "cell_type": "markdown",
   "id": "1b6a84e4",
   "metadata": {},
   "source": [
    "## 2000 >> 2020 multipliers\n",
    "### Creating multipliers to transform 2000 to 2020 data using 2000-2010 and 2010-2020 crosswalks\n",
    "Similar process to be followed as done for transforming and tracing 1990 to 2020 data. "
   ]
  },
  {
   "cell_type": "markdown",
   "id": "4d220afe",
   "metadata": {},
   "source": [
    "Reading in cleaned 2000-2010 crosswalk file and establish BG geoids"
   ]
  },
  {
   "cell_type": "code",
   "execution_count": 32,
   "id": "c19ed325",
   "metadata": {},
   "outputs": [
    {
     "data": {
      "text/html": [
       "<div>\n",
       "<style scoped>\n",
       "    .dataframe tbody tr th:only-of-type {\n",
       "        vertical-align: middle;\n",
       "    }\n",
       "\n",
       "    .dataframe tbody tr th {\n",
       "        vertical-align: top;\n",
       "    }\n",
       "\n",
       "    .dataframe thead th {\n",
       "        text-align: right;\n",
       "    }\n",
       "</style>\n",
       "<table border=\"1\" class=\"dataframe\">\n",
       "  <thead>\n",
       "    <tr style=\"text-align: right;\">\n",
       "      <th></th>\n",
       "      <th>GEOID00</th>\n",
       "      <th>GEOID10</th>\n",
       "      <th>WEIGHT</th>\n",
       "      <th>PAREA</th>\n",
       "    </tr>\n",
       "  </thead>\n",
       "  <tbody>\n",
       "    <tr>\n",
       "      <th>0</th>\n",
       "      <td>100030001001000</td>\n",
       "      <td>100030028001000</td>\n",
       "      <td>1.0</td>\n",
       "      <td>1.0</td>\n",
       "    </tr>\n",
       "    <tr>\n",
       "      <th>1</th>\n",
       "      <td>100030001001001</td>\n",
       "      <td>100030028001001</td>\n",
       "      <td>1.0</td>\n",
       "      <td>1.0</td>\n",
       "    </tr>\n",
       "  </tbody>\n",
       "</table>\n",
       "</div>"
      ],
      "text/plain": [
       "           GEOID00          GEOID10  WEIGHT  PAREA\n",
       "0  100030001001000  100030028001000     1.0    1.0\n",
       "1  100030001001001  100030028001001     1.0    1.0"
      ]
     },
     "execution_count": 32,
     "metadata": {},
     "output_type": "execute_result"
    }
   ],
   "source": [
    "crosswalks00 = pd.read_csv(folder+\"2000-2010\\\\cleanedcrosswalks_2000-2010.csv\")\n",
    "crosswalks00.head(2)"
   ]
  },
  {
   "cell_type": "code",
   "execution_count": 33,
   "id": "6d0149d4",
   "metadata": {},
   "outputs": [
    {
     "data": {
      "text/html": [
       "<div>\n",
       "<style scoped>\n",
       "    .dataframe tbody tr th:only-of-type {\n",
       "        vertical-align: middle;\n",
       "    }\n",
       "\n",
       "    .dataframe tbody tr th {\n",
       "        vertical-align: top;\n",
       "    }\n",
       "\n",
       "    .dataframe thead th {\n",
       "        text-align: right;\n",
       "    }\n",
       "</style>\n",
       "<table border=\"1\" class=\"dataframe\">\n",
       "  <thead>\n",
       "    <tr style=\"text-align: right;\">\n",
       "      <th></th>\n",
       "      <th>GEOID00</th>\n",
       "      <th>GEOID10</th>\n",
       "      <th>WEIGHT</th>\n",
       "      <th>GEOID00BG</th>\n",
       "      <th>GEOID10BG</th>\n",
       "    </tr>\n",
       "  </thead>\n",
       "  <tbody>\n",
       "    <tr>\n",
       "      <th>0</th>\n",
       "      <td>100030001001000</td>\n",
       "      <td>100030028001000</td>\n",
       "      <td>1.0</td>\n",
       "      <td>100030001001</td>\n",
       "      <td>100030028001</td>\n",
       "    </tr>\n",
       "    <tr>\n",
       "      <th>1</th>\n",
       "      <td>100030001001001</td>\n",
       "      <td>100030028001001</td>\n",
       "      <td>1.0</td>\n",
       "      <td>100030001001</td>\n",
       "      <td>100030028001</td>\n",
       "    </tr>\n",
       "  </tbody>\n",
       "</table>\n",
       "</div>"
      ],
      "text/plain": [
       "           GEOID00          GEOID10  WEIGHT     GEOID00BG     GEOID10BG\n",
       "0  100030001001000  100030028001000     1.0  100030001001  100030028001\n",
       "1  100030001001001  100030028001001     1.0  100030001001  100030028001"
      ]
     },
     "execution_count": 33,
     "metadata": {},
     "output_type": "execute_result"
    }
   ],
   "source": [
    "crosswalks00.drop('PAREA', axis=1, inplace=True)\n",
    "crosswalks00 = crosswalks00.astype({'GEOID00': str, 'GEOID10': str})\n",
    "crosswalks00['GEOID00BG'] = crosswalks00['GEOID00'].str[:12]\n",
    "crosswalks00['GEOID10BG'] = crosswalks00['GEOID10'].str[:12]\n",
    "crosswalks00.head(2)"
   ]
  },
  {
   "cell_type": "markdown",
   "id": "4bd9dc09",
   "metadata": {},
   "source": [
    "Check to confirm number of BG geoids matches the one in 2000 database"
   ]
  },
  {
   "cell_type": "code",
   "execution_count": 34,
   "id": "9ae27756",
   "metadata": {},
   "outputs": [],
   "source": [
    "checking00 = pd.read_excel(\"C:\\\\Users\\\\jenki\\\\Documents\\\\School\\\\Thesis\\\\Data\\\\NHGIS Data\\\\2000\\\\nhgis_2000_clean.xlsx\", sheet_name=\"compiled\", usecols=[\"geoid\"])"
   ]
  },
  {
   "cell_type": "code",
   "execution_count": 35,
   "id": "9d8bfb37",
   "metadata": {},
   "outputs": [
    {
     "data": {
      "text/plain": [
       "True"
      ]
     },
     "execution_count": 35,
     "metadata": {},
     "output_type": "execute_result"
    }
   ],
   "source": [
    "checking00['geoidBG'] = checking00['geoid'].str[7:] \n",
    "len(checking00.geoidBG.unique()) == len(crosswalks00.GEOID00BG.unique())"
   ]
  },
  {
   "cell_type": "markdown",
   "id": "391e990b",
   "metadata": {},
   "source": [
    "#### 2000-2010 to 2010-2020 data join\n",
    "Join 2000-2010 data to 2010-2020 data based on GEO10 Blocks (GEOID10). Fill NaN values with 1 and multiply the two crosswalk multipliers together to obtain multiplier value."
   ]
  },
  {
   "cell_type": "code",
   "execution_count": 36,
   "id": "a3cfc24c",
   "metadata": {},
   "outputs": [],
   "source": [
    "transform00 = crosswalks00.merge(crosswalks10, left_on='GEOID10', right_on='GEOID10', how='left')"
   ]
  },
  {
   "cell_type": "code",
   "execution_count": 37,
   "id": "d09cf4aa",
   "metadata": {},
   "outputs": [],
   "source": [
    "transform00['WEIGHT_y'].fillna(1,inplace=True)\n",
    "transform00['WEIGHT'] = transform90['WEIGHT_x']*transform90['WEIGHT_y']"
   ]
  },
  {
   "cell_type": "markdown",
   "id": "28f72543",
   "metadata": {},
   "source": [
    "#### Extract multipliers (weights) for GEOID00 standardized to 2020\n",
    "Group GEOID00BG by max weight (!!assumption. since multiple blocks per group...)"
   ]
  },
  {
   "cell_type": "code",
   "execution_count": 38,
   "id": "3ba7f954",
   "metadata": {},
   "outputs": [
    {
     "data": {
      "text/plain": [
       "29593"
      ]
     },
     "execution_count": 38,
     "metadata": {},
     "output_type": "execute_result"
    }
   ],
   "source": [
    "weights00 = transform00.groupby(['GEOID00BG','GEOID20BG']).agg({'WEIGHT': 'max'})\n",
    "weights00.reset_index(inplace=True)\n",
    "len(weights00)"
   ]
  },
  {
   "cell_type": "code",
   "execution_count": 39,
   "id": "aaea52ae",
   "metadata": {},
   "outputs": [
    {
     "data": {
      "text/plain": [
       "GEOID00BG    False\n",
       "GEOID20BG    False\n",
       "WEIGHT       False\n",
       "dtype: bool"
      ]
     },
     "execution_count": 39,
     "metadata": {},
     "output_type": "execute_result"
    }
   ],
   "source": [
    "# Check for any null or na values in the multipliers dataframe. \n",
    "weights00.isnull().any()\n",
    "\n",
    "# Returns\n",
    "# GEOID90BG    False\n",
    "# GEOID20BG    False\n",
    "# WEIGHT       False\n",
    "# dtype: bool\n",
    "\n",
    "# This indicates that there are no values of GEOID00BG for which there is no corresponding GEOID20BG that will be the standardized equivalent."
   ]
  },
  {
   "cell_type": "code",
   "execution_count": 40,
   "id": "40cb4fe0",
   "metadata": {},
   "outputs": [],
   "source": [
    "weights00.to_csv(folder + \"CrosswalkMultipliers\\\\multiplierweights00-20.csv\",index=False)"
   ]
  },
  {
   "cell_type": "markdown",
   "id": "1449d43b",
   "metadata": {},
   "source": [
    "### Extract multipliers for 2010-2020 data"
   ]
  },
  {
   "cell_type": "code",
   "execution_count": 41,
   "id": "f3ebb8c2",
   "metadata": {},
   "outputs": [
    {
     "data": {
      "text/html": [
       "<div>\n",
       "<style scoped>\n",
       "    .dataframe tbody tr th:only-of-type {\n",
       "        vertical-align: middle;\n",
       "    }\n",
       "\n",
       "    .dataframe tbody tr th {\n",
       "        vertical-align: top;\n",
       "    }\n",
       "\n",
       "    .dataframe thead th {\n",
       "        text-align: right;\n",
       "    }\n",
       "</style>\n",
       "<table border=\"1\" class=\"dataframe\">\n",
       "  <thead>\n",
       "    <tr style=\"text-align: right;\">\n",
       "      <th></th>\n",
       "      <th>GEOID10</th>\n",
       "      <th>GEOID20</th>\n",
       "      <th>WEIGHT</th>\n",
       "      <th>GEOID10BG</th>\n",
       "      <th>GEOID20BG</th>\n",
       "    </tr>\n",
       "  </thead>\n",
       "  <tbody>\n",
       "    <tr>\n",
       "      <th>0</th>\n",
       "      <td>100030002001000</td>\n",
       "      <td>100030002001000</td>\n",
       "      <td>1.0</td>\n",
       "      <td>100030002001</td>\n",
       "      <td>100030002001</td>\n",
       "    </tr>\n",
       "    <tr>\n",
       "      <th>1</th>\n",
       "      <td>100030002001001</td>\n",
       "      <td>100030002001001</td>\n",
       "      <td>1.0</td>\n",
       "      <td>100030002001</td>\n",
       "      <td>100030002001</td>\n",
       "    </tr>\n",
       "    <tr>\n",
       "      <th>2</th>\n",
       "      <td>100030002001002</td>\n",
       "      <td>100030002001002</td>\n",
       "      <td>1.0</td>\n",
       "      <td>100030002001</td>\n",
       "      <td>100030002001</td>\n",
       "    </tr>\n",
       "    <tr>\n",
       "      <th>3</th>\n",
       "      <td>100030002001003</td>\n",
       "      <td>100030002001003</td>\n",
       "      <td>1.0</td>\n",
       "      <td>100030002001</td>\n",
       "      <td>100030002001</td>\n",
       "    </tr>\n",
       "    <tr>\n",
       "      <th>4</th>\n",
       "      <td>100030002001004</td>\n",
       "      <td>100030002001003</td>\n",
       "      <td>1.0</td>\n",
       "      <td>100030002001</td>\n",
       "      <td>100030002001</td>\n",
       "    </tr>\n",
       "    <tr>\n",
       "      <th>...</th>\n",
       "      <td>...</td>\n",
       "      <td>...</td>\n",
       "      <td>...</td>\n",
       "      <td>...</td>\n",
       "      <td>...</td>\n",
       "    </tr>\n",
       "    <tr>\n",
       "      <th>438327</th>\n",
       "      <td>540439558004188</td>\n",
       "      <td>540439558004005</td>\n",
       "      <td>1.0</td>\n",
       "      <td>540439558004</td>\n",
       "      <td>540439558004</td>\n",
       "    </tr>\n",
       "    <tr>\n",
       "      <th>438328</th>\n",
       "      <td>540439558004189</td>\n",
       "      <td>540439558004005</td>\n",
       "      <td>1.0</td>\n",
       "      <td>540439558004</td>\n",
       "      <td>540439558004</td>\n",
       "    </tr>\n",
       "    <tr>\n",
       "      <th>438329</th>\n",
       "      <td>540439558004190</td>\n",
       "      <td>540439558004075</td>\n",
       "      <td>1.0</td>\n",
       "      <td>540439558004</td>\n",
       "      <td>540439558004</td>\n",
       "    </tr>\n",
       "    <tr>\n",
       "      <th>438330</th>\n",
       "      <td>540439558004191</td>\n",
       "      <td>540439558004001</td>\n",
       "      <td>1.0</td>\n",
       "      <td>540439558004</td>\n",
       "      <td>540439558004</td>\n",
       "    </tr>\n",
       "    <tr>\n",
       "      <th>438331</th>\n",
       "      <td>540439558004192</td>\n",
       "      <td>540439558004048</td>\n",
       "      <td>1.0</td>\n",
       "      <td>540439558004</td>\n",
       "      <td>540439558004</td>\n",
       "    </tr>\n",
       "  </tbody>\n",
       "</table>\n",
       "<p>438332 rows × 5 columns</p>\n",
       "</div>"
      ],
      "text/plain": [
       "                GEOID10          GEOID20  WEIGHT     GEOID10BG     GEOID20BG\n",
       "0       100030002001000  100030002001000     1.0  100030002001  100030002001\n",
       "1       100030002001001  100030002001001     1.0  100030002001  100030002001\n",
       "2       100030002001002  100030002001002     1.0  100030002001  100030002001\n",
       "3       100030002001003  100030002001003     1.0  100030002001  100030002001\n",
       "4       100030002001004  100030002001003     1.0  100030002001  100030002001\n",
       "...                 ...              ...     ...           ...           ...\n",
       "438327  540439558004188  540439558004005     1.0  540439558004  540439558004\n",
       "438328  540439558004189  540439558004005     1.0  540439558004  540439558004\n",
       "438329  540439558004190  540439558004075     1.0  540439558004  540439558004\n",
       "438330  540439558004191  540439558004001     1.0  540439558004  540439558004\n",
       "438331  540439558004192  540439558004048     1.0  540439558004  540439558004\n",
       "\n",
       "[438332 rows x 5 columns]"
      ]
     },
     "execution_count": 41,
     "metadata": {},
     "output_type": "execute_result"
    }
   ],
   "source": [
    "crosswalks10"
   ]
  },
  {
   "cell_type": "code",
   "execution_count": 42,
   "id": "6c7a2a8d",
   "metadata": {
    "scrolled": true
   },
   "outputs": [],
   "source": [
    "weights10 = crosswalks10.groupby(['GEOID10BG','GEOID20BG']).agg({'WEIGHT': 'max'})\n",
    "weights10.reset_index(inplace=True)"
   ]
  },
  {
   "cell_type": "code",
   "execution_count": 43,
   "id": "89af5fae",
   "metadata": {},
   "outputs": [
    {
     "data": {
      "text/plain": [
       "GEOID10BG    False\n",
       "GEOID20BG    False\n",
       "WEIGHT       False\n",
       "dtype: bool"
      ]
     },
     "execution_count": 43,
     "metadata": {},
     "output_type": "execute_result"
    }
   ],
   "source": [
    "# Check for any null or na values in the multipliers dataframe. \n",
    "weights10.isnull().any()\n",
    "\n",
    "# Returns\n",
    "# GEOID90BG    False\n",
    "# GEOID20BG    False\n",
    "# WEIGHT       False\n",
    "# dtype: bool\n",
    "\n",
    "# This indicates that there are no values of GEOID10BG for which there is no corresponding GEOID20BG that will be the standardized equivalent."
   ]
  },
  {
   "cell_type": "code",
   "execution_count": 44,
   "id": "0cad9807",
   "metadata": {},
   "outputs": [],
   "source": [
    "# Save weights file to csv for easy recall\n",
    "weights10.to_csv(folder + \"CrosswalkMultipliers\\\\multiplierweights10-20.csv\",index=False)"
   ]
  },
  {
   "cell_type": "markdown",
   "id": "f5d6d946",
   "metadata": {},
   "source": [
    "# Data transformation"
   ]
  },
  {
   "cell_type": "markdown",
   "id": "921d5082",
   "metadata": {},
   "source": [
    "## Read in database pickles"
   ]
  },
  {
   "cell_type": "code",
   "execution_count": 3,
   "id": "7b5b780f",
   "metadata": {},
   "outputs": [
    {
     "data": {
      "text/plain": [
       "dict_keys([2013, 2014, 2015, 2016, 2017, 2018, 2019, 2020, 1990, 2000, 2010, 2011, 2012])"
      ]
     },
     "execution_count": 3,
     "metadata": {},
     "output_type": "execute_result"
    }
   ],
   "source": [
    "# Read in database pickles and check\n",
    "pickle_in = open('alldatadict.pickle', 'rb')\n",
    "workingdict = pickle.load(pickle_in)\n",
    "workingdict.keys()"
   ]
  },
  {
   "cell_type": "code",
   "execution_count": 4,
   "id": "08a2a632",
   "metadata": {},
   "outputs": [],
   "source": [
    "# Read in multiplier files\n",
    "newfolder = r\"C:\\\\Users\\\\jenki\\\\Documents\\\\School\\\\Thesis\\\\Data\\NHGIS Data\\\\Crosswalks\\\\GEOID\\\\CrosswalkMultipliers\\\\\"\n",
    "x90 = pd.read_csv(newfolder + \"multiplierweights90-20.csv\")\n",
    "x00 = pd.read_csv(newfolder + \"multiplierweights00-20.csv\")\n",
    "x10 = pd.read_csv(newfolder + \"multiplierweights10-20.csv\")"
   ]
  },
  {
   "cell_type": "code",
   "execution_count": 5,
   "id": "edcc91de",
   "metadata": {},
   "outputs": [],
   "source": [
    "# Establish variables to be used \n",
    "indicators = ['population', 'totalcivilianlaborforce','unemployedpopulation','totalhousingunits','vacanthousingunits']\n",
    "attributes = ['year','tract','state','county','msa','medianhouseholdincome','percapitaincome','mediancontractrent','mediangrossrent','medianhomevalue']\n",
    "usecols = indicators+attributes"
   ]
  },
  {
   "cell_type": "markdown",
   "id": "d55e6382",
   "metadata": {},
   "source": [
    "## Filter and transform 1990 data"
   ]
  },
  {
   "cell_type": "code",
   "execution_count": 11,
   "id": "dd925e9a",
   "metadata": {},
   "outputs": [
    {
     "data": {
      "text/plain": [
       "0"
      ]
     },
     "execution_count": 11,
     "metadata": {},
     "output_type": "execute_result"
    }
   ],
   "source": [
    "# Load 1990 data and check for na values\n",
    "data90 = workingdict[1990]\n",
    "data90.isna().sum().sum()\n",
    "\n",
    "# If there are null values use the following:\n",
    "# data90 = data90.fillna(0)b"
   ]
  },
  {
   "cell_type": "code",
   "execution_count": 12,
   "id": "a993119c",
   "metadata": {},
   "outputs": [],
   "source": [
    "# add new column 'geoidBG' for reference when performing merge and multiplication. \n",
    "data90['geoidBG'] = data90['geoid'].str[7:]"
   ]
  },
  {
   "cell_type": "code",
   "execution_count": 13,
   "id": "967d2ef4",
   "metadata": {},
   "outputs": [],
   "source": [
    "# Convert GEOID90BG and GEOID20BG to object type\n",
    "x90 = x90.astype({'GEOID90BG':str, 'GEOID20BG':str}) \n",
    "\n",
    "# Convert percapitaincome into integer\n",
    "data90['percapitaincome'] = data90['percapitaincome'].astype(int)"
   ]
  },
  {
   "cell_type": "code",
   "execution_count": 14,
   "id": "39985069",
   "metadata": {},
   "outputs": [],
   "source": [
    "# Merge multiplier file to 1990 dataframe\n",
    "merge90 = data90.merge(x90, left_on='geoidBG', right_on='GEOID90BG', how='inner')"
   ]
  },
  {
   "cell_type": "code",
   "execution_count": 15,
   "id": "7acbed1b",
   "metadata": {},
   "outputs": [],
   "source": [
    "# # Drop row if weight = 0 >> means that 1990 BG no longer exists in 2020 BG\n",
    "# merge90 = merge90.loc[merge90['WEIGHT'] != 0]"
   ]
  },
  {
   "cell_type": "code",
   "execution_count": 16,
   "id": "9932458b",
   "metadata": {},
   "outputs": [],
   "source": [
    "# For all count-based indicators, multiply by weight from crosswalk\n",
    "for x in indicators:\n",
    "    merge90[x] = merge90[x]*merge90['WEIGHT']\n",
    "    merge90[x].apply(np.ceil)\n",
    "    merge90 = merge90.astype({x:int})"
   ]
  },
  {
   "cell_type": "code",
   "execution_count": 18,
   "id": "51f28de9",
   "metadata": {},
   "outputs": [],
   "source": [
    "group90 = merge90.groupby(['GEOID20BG']).agg({'year':'max','msa':'max','state':'max','county':'max','tract':'max', 'blockgroup':'max',\n",
    "                                         'population':'max', 'totalcivilianlaborforce':'max', 'unemployedpopulation':'max',\n",
    "                                         'totalhousingunits':'max', 'vacanthousingunits':'max',\n",
    "                                         'medianhouseholdincome':'max', 'percapitaincome':'max','mediancontractrent':'max', 'mediangrossrent':'max', 'medianhomevalue':'max', 'mediangrossretnaspercentageofhouseholdincome':'max'\n",
    "                                         })\n",
    "\n",
    "# Summation only makes sense if the crosswalks are given by block group, or if we are transforming the data from blocks.\n",
    "# group90 = merge90.groupby(['GEOID20BG']).agg({'year':'max','msa':'max','state':'max','county':'max','tract':'max', 'blockgroup':'max',\n",
    "#                                          'population':'sum', 'totalcivilianlaborforce':'sum', 'unemployedpopulation':'sum',\n",
    "#                                          'totalhousingunits':'sum', 'vacanthousingunits':'sum',\n",
    "#                                          'medianhouseholdincome':'max', 'percapitaincome':'max','mediancontractrent':'max', 'mediangrossrent':'max', 'medianhomevalue':'max',\n",
    "#                                          })"
   ]
  },
  {
   "cell_type": "code",
   "execution_count": 19,
   "id": "5458398d",
   "metadata": {},
   "outputs": [],
   "source": [
    "group90.reset_index(inplace=True)"
   ]
  },
  {
   "cell_type": "code",
   "execution_count": 37,
   "id": "8f8b731a",
   "metadata": {},
   "outputs": [
    {
     "data": {
      "text/plain": [
       "15992"
      ]
     },
     "execution_count": 37,
     "metadata": {},
     "output_type": "execute_result"
    }
   ],
   "source": [
    "len(group90)"
   ]
  },
  {
   "cell_type": "code",
   "execution_count": 26,
   "id": "019436c0",
   "metadata": {},
   "outputs": [],
   "source": [
    "# (group90['population'] == 0).sum()"
   ]
  },
  {
   "cell_type": "markdown",
   "id": "cad5ded6",
   "metadata": {},
   "source": [
    "## Filter and transform 2000 data"
   ]
  },
  {
   "cell_type": "code",
   "execution_count": 38,
   "id": "bd905e02",
   "metadata": {},
   "outputs": [
    {
     "data": {
      "text/plain": [
       "0"
      ]
     },
     "execution_count": 38,
     "metadata": {},
     "output_type": "execute_result"
    }
   ],
   "source": [
    "# Load 2000 data and check for na values\n",
    "data00 = workingdict[2000]\n",
    "data00.isna().sum().sum()"
   ]
  },
  {
   "cell_type": "code",
   "execution_count": 40,
   "id": "40e8f6ab",
   "metadata": {},
   "outputs": [],
   "source": [
    "# add new column 'geoidBG' for reference when performing merge and multiplication. \n",
    "data00['geoidBG'] = data00['geoid'].str[7:]"
   ]
  },
  {
   "cell_type": "code",
   "execution_count": 41,
   "id": "149ea016",
   "metadata": {},
   "outputs": [],
   "source": [
    "# Convert GEOID00BG and GEOID20BG to object type\n",
    "x00 = x00.astype({'GEOID00BG':str, 'GEOID20BG':str}) \n",
    "\n",
    "# Convert percapitaincome into integer\n",
    "data00['percapitaincome'] = data00['percapitaincome'].astype(int)"
   ]
  },
  {
   "cell_type": "code",
   "execution_count": 42,
   "id": "b1e2d620",
   "metadata": {},
   "outputs": [],
   "source": [
    "# Merge multiplier file to 2000 dataframe\n",
    "merge00 = data00.merge(x00, left_on='geoidBG', right_on='GEOID00BG', how='inner')"
   ]
  },
  {
   "cell_type": "code",
   "execution_count": 33,
   "id": "ed0adb00",
   "metadata": {},
   "outputs": [],
   "source": [
    "# Drop row if weight = 0 >> means that 2000 BG no longer exists in 2020 BG\n",
    "# merge00 = merge00.loc[merge00['WEIGHT'] != 0]"
   ]
  },
  {
   "cell_type": "code",
   "execution_count": 44,
   "id": "38e17834",
   "metadata": {},
   "outputs": [],
   "source": [
    "# For all count-based indicators, multiply by weight from crosswalk\n",
    "for x in indicators:\n",
    "    merge00[x] = merge00[x]*merge00['WEIGHT']\n",
    "    merge00[x].apply(np.ceil)\n",
    "    merge00 = merge00.astype({x:int})"
   ]
  },
  {
   "cell_type": "code",
   "execution_count": 45,
   "id": "5b6c45ce",
   "metadata": {},
   "outputs": [],
   "source": [
    "group00 = merge00.groupby(['GEOID20BG']).agg({'year':'max','msa':'max','state':'max','county':'max','tract':'max', 'blockgroup':'max',\n",
    "                                         'population':'max', 'totalcivilianlaborforce':'max', 'unemployedpopulation':'max',\n",
    "                                         'totalhousingunits':'max', 'vacanthousingunits':'max',\n",
    "                                         'medianhouseholdincome':'max', 'percapitaincome':'max','mediancontractrent':'max', 'mediangrossrent':'max', 'medianhomevalue':'max', 'mediangrossretnaspercentageofhouseholdincome':'max'\n",
    "                                         })\n",
    "group00.reset_index(inplace=True)"
   ]
  },
  {
   "cell_type": "code",
   "execution_count": 47,
   "id": "d383068b",
   "metadata": {},
   "outputs": [
    {
     "data": {
      "text/plain": [
       "11554"
      ]
     },
     "execution_count": 47,
     "metadata": {},
     "output_type": "execute_result"
    }
   ],
   "source": [
    "len(group00)"
   ]
  },
  {
   "cell_type": "markdown",
   "id": "b4c91aba",
   "metadata": {},
   "source": [
    "## Filter and transform 2010-2019 data"
   ]
  },
  {
   "cell_type": "code",
   "execution_count": 48,
   "id": "d39fc8ce",
   "metadata": {},
   "outputs": [],
   "source": [
    "years = [2010, 2011, 2012, 2013, 2014, 2015, 2016, 2017, 2018, 2019]"
   ]
  },
  {
   "cell_type": "code",
   "execution_count": 49,
   "id": "cf56a0df",
   "metadata": {
    "scrolled": false
   },
   "outputs": [
    {
     "name": "stdout",
     "output_type": "stream",
     "text": [
      "0\n",
      "0\n",
      "0\n",
      "7\n",
      "7\n",
      "8017\n",
      "8\n",
      "6\n",
      "9\n",
      "8\n"
     ]
    }
   ],
   "source": [
    "for year in years:\n",
    "    print(workingdict[year].isna().sum().sum())"
   ]
  },
  {
   "cell_type": "code",
   "execution_count": 50,
   "id": "9c802735",
   "metadata": {},
   "outputs": [],
   "source": [
    "x10 = x10.astype({'GEOID10BG':str, 'GEOID20BG':str}) "
   ]
  },
  {
   "cell_type": "code",
   "execution_count": 52,
   "id": "90cd08ce",
   "metadata": {},
   "outputs": [],
   "source": [
    "for year in years:\n",
    "    workingdict[year].fillna(0,inplace=True)\n",
    "    workingdict[year]['geoidBG'] = workingdict[year]['geoid'].str[7:]\n",
    "    workingdict[year]['percapitaincome'] = workingdict[year]['percapitaincome'].astype(int)"
   ]
  },
  {
   "cell_type": "code",
   "execution_count": 53,
   "id": "dcf831c6",
   "metadata": {},
   "outputs": [],
   "source": [
    "merge = {}\n",
    "for year in years:\n",
    "    merge[year] = workingdict[year].merge(x10, left_on='geoidBG', right_on='GEOID10BG', how='inner')\n",
    "#     merge[year] = merge[year].loc[merge[year]['WEIGHT'] != 0]"
   ]
  },
  {
   "cell_type": "code",
   "execution_count": 54,
   "id": "3b8e3fb9",
   "metadata": {},
   "outputs": [],
   "source": [
    "for year in years:\n",
    "    for x in indicators:\n",
    "        merge[year][x] = merge[year][x]*merge[year]['WEIGHT']\n",
    "        merge[year][x].apply(np.ceil)\n",
    "        merge[year] = merge[year].astype({x:int})"
   ]
  },
  {
   "cell_type": "code",
   "execution_count": 55,
   "id": "8bef8e39",
   "metadata": {},
   "outputs": [],
   "source": [
    "dictgroup = {}\n",
    "\n",
    "for year in years:\n",
    "    group = merge[year].groupby(['GEOID20BG']).agg({'year':'max','msa':'max','state':'max','county':'max','tract':'max', 'blockgroup':'max',\n",
    "                                         'population':'max', 'totalcivilianlaborforce':'max', 'unemployedpopulation':'max',\n",
    "                                         'totalhousingunits':'max', 'vacanthousingunits':'max',\n",
    "                                         'medianhouseholdincome':'max', 'percapitaincome':'max','mediancontractrent':'max', 'mediangrossrent':'max', 'medianhomevalue':'max', 'mediangrossretnaspercentageofhouseholdincome':'max'\n",
    "                                         })\n",
    "   \n",
    "    group.reset_index(inplace=True)\n",
    "    \n",
    "    dictgroup[year] = group"
   ]
  },
  {
   "cell_type": "code",
   "execution_count": 56,
   "id": "62efedf5",
   "metadata": {},
   "outputs": [],
   "source": [
    "# Copy dataframes for 1990 and 2000 data (grouped) into the new dictionary of data\n",
    "dictgroup[1990] = group90.copy()\n",
    "dictgroup[2000] = group00.copy()"
   ]
  },
  {
   "cell_type": "markdown",
   "id": "df9b6df7",
   "metadata": {},
   "source": [
    "#### Clean 2020 data into the same format (columns and all) to insert into the new dictionary of data"
   ]
  },
  {
   "cell_type": "code",
   "execution_count": 58,
   "id": "073b4625",
   "metadata": {},
   "outputs": [],
   "source": [
    "# Create new dataframe for 2020 data\n",
    "data20 = workingdict[2020].copy()"
   ]
  },
  {
   "cell_type": "code",
   "execution_count": 59,
   "id": "4662f142",
   "metadata": {},
   "outputs": [],
   "source": [
    "# Add geoid column\n",
    "data20['GEOID20BG'] = data20['geoid'].str[7:]"
   ]
  },
  {
   "cell_type": "code",
   "execution_count": 60,
   "id": "1fa23928",
   "metadata": {},
   "outputs": [],
   "source": [
    "# Drop unneeded columns\n",
    "data20.drop(['geoid', 'statefp', 'countyfp', 'statecountyfp'], axis = 1, inplace=True)"
   ]
  },
  {
   "cell_type": "code",
   "execution_count": 61,
   "id": "cfa99e76",
   "metadata": {},
   "outputs": [],
   "source": [
    "# Add to dictgroup dictionary\n",
    "dictgroup[2020] = data20.copy()"
   ]
  },
  {
   "cell_type": "markdown",
   "id": "3d34ef35",
   "metadata": {},
   "source": [
    "#### Convert all dataframe datatypes into the same types"
   ]
  },
  {
   "cell_type": "code",
   "execution_count": 78,
   "id": "3d8d758b",
   "metadata": {},
   "outputs": [],
   "source": [
    "dtypes_new = group90.dtypes.to_dict()"
   ]
  },
  {
   "cell_type": "code",
   "execution_count": 79,
   "id": "2c4640ba",
   "metadata": {},
   "outputs": [
    {
     "data": {
      "text/plain": [
       "[2010, 2011, 2012, 2013, 2014, 2015, 2016, 2017, 2018, 2019, 1990, 2000, 2020]"
      ]
     },
     "execution_count": 79,
     "metadata": {},
     "output_type": "execute_result"
    }
   ],
   "source": [
    "keys = list(dictgroup.keys())\n",
    "keys"
   ]
  },
  {
   "cell_type": "code",
   "execution_count": 86,
   "id": "bee27632",
   "metadata": {},
   "outputs": [],
   "source": [
    "for key in keys:\n",
    "    dictgroup[key] = dictgroup[key].fillna(0).astype(dtypes_new)"
   ]
  },
  {
   "cell_type": "markdown",
   "id": "d00db581",
   "metadata": {},
   "source": [
    "#### Convert all negative values to 0"
   ]
  },
  {
   "cell_type": "code",
   "execution_count": 87,
   "id": "8089728d",
   "metadata": {},
   "outputs": [],
   "source": [
    "for year in keys:\n",
    "    dictgroup[year].loc[dictgroup[year][\"medianhouseholdincome\"] < 0, \"medianhouseholdincome\"] = 0\n",
    "    dictgroup[year].loc[dictgroup[year][\"percapitaincome\"] < 0, \"percapitaincome\"] = 0\n",
    "    dictgroup[year].loc[dictgroup[year][\"mediancontractrent\"] < 0, \"mediancontractrent\"] = 0\n",
    "    dictgroup[year].loc[dictgroup[year][\"mediangrossrent\"] < 0, \"mediangrossrent\"] = 0\n",
    "    dictgroup[year].loc[dictgroup[year][\"medianhomevalue\"] < 0, \"medianhomevalue\"] = 0\n",
    "    dictgroup[year].loc[dictgroup[year][\"mediangrossretnaspercentageofhouseholdincome\"] < 0, \"mediangrossretnaspercentageofhouseholdincome\"] = 0"
   ]
  },
  {
   "cell_type": "code",
   "execution_count": 88,
   "id": "52591dba",
   "metadata": {
    "scrolled": true
   },
   "outputs": [
    {
     "data": {
      "text/plain": [
       "year                                                      2020\n",
       "population                                                   0\n",
       "medianhouseholdincome                                        0\n",
       "percapitaincome                                              0\n",
       "totalcivilianlaborforce                                      0\n",
       "unemployedpopulation                                         0\n",
       "totalhousingunits                                            0\n",
       "vacanthousingunits                                           0\n",
       "mediancontractrent                                           0\n",
       "mediangrossrent                                              0\n",
       "mediangrossretnaspercentageofhouseholdincome               0.0\n",
       "medianhomevalue                                              0\n",
       "tract                                                      100\n",
       "blockgroup                                                   0\n",
       "msa                                                 Charleston\n",
       "state                                                 Delaware\n",
       "county                                          Bastrop County\n",
       "GEOID20BG                                         100030002001\n",
       "dtype: object"
      ]
     },
     "execution_count": 88,
     "metadata": {},
     "output_type": "execute_result"
    }
   ],
   "source": [
    "dictgroup[2020].min()"
   ]
  },
  {
   "cell_type": "markdown",
   "id": "41481cbd",
   "metadata": {},
   "source": [
    "#### Concatenate data from dictionary into dataframe"
   ]
  },
  {
   "cell_type": "code",
   "execution_count": 93,
   "id": "7e0543f6",
   "metadata": {},
   "outputs": [],
   "source": [
    "alldata = pd.concat(dictgroup.values())"
   ]
  },
  {
   "cell_type": "markdown",
   "id": "147162b3",
   "metadata": {},
   "source": [
    "Checking to see how many BG index values stay consistent over the years of data available"
   ]
  },
  {
   "cell_type": "code",
   "execution_count": 95,
   "id": "de99bfe3",
   "metadata": {},
   "outputs": [],
   "source": [
    "g = alldata.groupby(['GEOID20BG', 'year']).agg({'tract': 'count'}).reset_index()"
   ]
  },
  {
   "cell_type": "code",
   "execution_count": 97,
   "id": "67c5c068",
   "metadata": {
    "scrolled": true
   },
   "outputs": [
    {
     "data": {
      "text/html": [
       "<div>\n",
       "<style scoped>\n",
       "    .dataframe tbody tr th:only-of-type {\n",
       "        vertical-align: middle;\n",
       "    }\n",
       "\n",
       "    .dataframe tbody tr th {\n",
       "        vertical-align: top;\n",
       "    }\n",
       "\n",
       "    .dataframe thead th {\n",
       "        text-align: right;\n",
       "    }\n",
       "</style>\n",
       "<table border=\"1\" class=\"dataframe\">\n",
       "  <thead>\n",
       "    <tr style=\"text-align: right;\">\n",
       "      <th></th>\n",
       "      <th>GEOID20BG</th>\n",
       "    </tr>\n",
       "    <tr>\n",
       "      <th>year</th>\n",
       "      <th></th>\n",
       "    </tr>\n",
       "  </thead>\n",
       "  <tbody>\n",
       "    <tr>\n",
       "      <th>1990</th>\n",
       "      <td>15992</td>\n",
       "    </tr>\n",
       "    <tr>\n",
       "      <th>2000</th>\n",
       "      <td>11554</td>\n",
       "    </tr>\n",
       "    <tr>\n",
       "      <th>2010</th>\n",
       "      <td>16002</td>\n",
       "    </tr>\n",
       "    <tr>\n",
       "      <th>2011</th>\n",
       "      <td>16002</td>\n",
       "    </tr>\n",
       "    <tr>\n",
       "      <th>2012</th>\n",
       "      <td>16002</td>\n",
       "    </tr>\n",
       "    <tr>\n",
       "      <th>2013</th>\n",
       "      <td>16002</td>\n",
       "    </tr>\n",
       "    <tr>\n",
       "      <th>2014</th>\n",
       "      <td>16002</td>\n",
       "    </tr>\n",
       "    <tr>\n",
       "      <th>2015</th>\n",
       "      <td>16002</td>\n",
       "    </tr>\n",
       "    <tr>\n",
       "      <th>2016</th>\n",
       "      <td>16002</td>\n",
       "    </tr>\n",
       "    <tr>\n",
       "      <th>2017</th>\n",
       "      <td>16002</td>\n",
       "    </tr>\n",
       "    <tr>\n",
       "      <th>2018</th>\n",
       "      <td>16002</td>\n",
       "    </tr>\n",
       "    <tr>\n",
       "      <th>2019</th>\n",
       "      <td>16002</td>\n",
       "    </tr>\n",
       "    <tr>\n",
       "      <th>2020</th>\n",
       "      <td>15964</td>\n",
       "    </tr>\n",
       "  </tbody>\n",
       "</table>\n",
       "</div>"
      ],
      "text/plain": [
       "      GEOID20BG\n",
       "year           \n",
       "1990      15992\n",
       "2000      11554\n",
       "2010      16002\n",
       "2011      16002\n",
       "2012      16002\n",
       "2013      16002\n",
       "2014      16002\n",
       "2015      16002\n",
       "2016      16002\n",
       "2017      16002\n",
       "2018      16002\n",
       "2019      16002\n",
       "2020      15964"
      ]
     },
     "execution_count": 97,
     "metadata": {},
     "output_type": "execute_result"
    }
   ],
   "source": [
    "g.groupby('year').agg({'GEOID20BG': 'count'})"
   ]
  },
  {
   "cell_type": "code",
   "execution_count": 98,
   "id": "1940147b",
   "metadata": {},
   "outputs": [],
   "source": [
    "g = g.groupby(['GEOID20BG']).agg({'year': 'count'}).reset_index()"
   ]
  },
  {
   "cell_type": "code",
   "execution_count": 99,
   "id": "3a71a098",
   "metadata": {},
   "outputs": [
    {
     "data": {
      "text/html": [
       "<div>\n",
       "<style scoped>\n",
       "    .dataframe tbody tr th:only-of-type {\n",
       "        vertical-align: middle;\n",
       "    }\n",
       "\n",
       "    .dataframe tbody tr th {\n",
       "        vertical-align: top;\n",
       "    }\n",
       "\n",
       "    .dataframe thead th {\n",
       "        text-align: right;\n",
       "    }\n",
       "</style>\n",
       "<table border=\"1\" class=\"dataframe\">\n",
       "  <thead>\n",
       "    <tr style=\"text-align: right;\">\n",
       "      <th></th>\n",
       "      <th>GEOID20BG</th>\n",
       "    </tr>\n",
       "    <tr>\n",
       "      <th>year</th>\n",
       "      <th></th>\n",
       "    </tr>\n",
       "  </thead>\n",
       "  <tbody>\n",
       "    <tr>\n",
       "      <th>11</th>\n",
       "      <td>30</td>\n",
       "    </tr>\n",
       "    <tr>\n",
       "      <th>12</th>\n",
       "      <td>4436</td>\n",
       "    </tr>\n",
       "    <tr>\n",
       "      <th>13</th>\n",
       "      <td>11536</td>\n",
       "    </tr>\n",
       "  </tbody>\n",
       "</table>\n",
       "</div>"
      ],
      "text/plain": [
       "      GEOID20BG\n",
       "year           \n",
       "11           30\n",
       "12         4436\n",
       "13        11536"
      ]
     },
     "execution_count": 99,
     "metadata": {},
     "output_type": "execute_result"
    }
   ],
   "source": [
    "g.groupby('year').agg({'GEOID20BG': 'count'})"
   ]
  },
  {
   "cell_type": "markdown",
   "id": "84fd2312",
   "metadata": {},
   "source": [
    "# Save all the progress to pickles"
   ]
  },
  {
   "cell_type": "code",
   "execution_count": 102,
   "id": "2d797d24",
   "metadata": {},
   "outputs": [],
   "source": [
    "# save dataframe \"alldata\" into pickle file\n",
    "pickle_out = open('allcrosswalkeddatadf.pickle', 'wb')\n",
    "pickle.dump(alldata, pickle_out)\n",
    "pickle_out.close()"
   ]
  },
  {
   "cell_type": "code",
   "execution_count": 103,
   "id": "cd0c5e25",
   "metadata": {},
   "outputs": [
    {
     "name": "stdout",
     "output_type": "stream",
     "text": [
      "File size of pickle file is 23.2 MB\n"
     ]
    }
   ],
   "source": [
    "# print file size\n",
    "print('File size of pickle file is', round(os.path.getsize('allcrosswalkeddatadf.pickle') / (1024**2), 1), 'MB')"
   ]
  },
  {
   "cell_type": "code",
   "execution_count": null,
   "id": "2d36a62a",
   "metadata": {},
   "outputs": [],
   "source": [
    "# save dictionary \"dictgroup\" into new pickle file\n",
    "pickle_out = open('allcrosswalkeddictionary.pickle', 'wb')\n",
    "pickle.dump(dictgroup, pickle_out)\n",
    "pickle_out.close()"
   ]
  },
  {
   "cell_type": "code",
   "execution_count": null,
   "id": "461fbc6e",
   "metadata": {},
   "outputs": [],
   "source": [
    "# print file size\n",
    "print('File size of pickle file is', round(os.path.getsize('crosswalkeddictionary.pickle') / (1024**2), 1), 'MB')"
   ]
  }
 ],
 "metadata": {
  "kernelspec": {
   "display_name": "Python 3 (ipykernel)",
   "language": "python",
   "name": "python3"
  },
  "language_info": {
   "codemirror_mode": {
    "name": "ipython",
    "version": 3
   },
   "file_extension": ".py",
   "mimetype": "text/x-python",
   "name": "python",
   "nbconvert_exporter": "python",
   "pygments_lexer": "ipython3",
   "version": "3.9.12"
  }
 },
 "nbformat": 4,
 "nbformat_minor": 5
}
