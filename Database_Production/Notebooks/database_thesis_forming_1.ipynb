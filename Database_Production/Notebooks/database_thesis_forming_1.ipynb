{
 "cells": [
  {
   "cell_type": "markdown",
   "id": "9567b910",
   "metadata": {},
   "source": [
    "# Setup"
   ]
  },
  {
   "cell_type": "code",
   "execution_count": 112,
   "id": "7438f662",
   "metadata": {},
   "outputs": [],
   "source": [
    "import pandas as pd\n",
    "import sys\n",
    "import numpy as np\n",
    "import scipy as sp\n",
    "import pickle\n",
    "import os\n",
    "\n",
    "import matplotlib.pyplot as plt\n",
    "from math import radians, cos, sin, asin, sqrt\n",
    "import datetime\n",
    "from sklearn.linear_model import LinearRegression\n",
    "import seaborn as sns\n",
    "sns.set(style=\"ticks\")\n",
    "%matplotlib inline"
   ]
  },
  {
   "cell_type": "code",
   "execution_count": 113,
   "id": "1a16056d",
   "metadata": {},
   "outputs": [
    {
     "data": {
      "text/plain": [
       "['MSA', 'State', 'County', 'StateFP', 'CountyFP', 'StateCounty', 'MSAFP']"
      ]
     },
     "execution_count": 113,
     "metadata": {},
     "output_type": "execute_result"
    }
   ],
   "source": [
    "# Read CSV of geovariables and convert to dictionary\n",
    "GeoIDs = pd.read_csv(r\"C:\\Users\\jenki\\Documents\\School\\Thesis\\Data\\Database Production\\GeoIDs.csv\", header = 0)\n",
    "geoIDs_records = GeoIDs.to_dict('records')\n",
    "GeoIDs.columns.to_list()"
   ]
  },
  {
   "cell_type": "markdown",
   "id": "5857fe90",
   "metadata": {},
   "source": [
    "# Data Compilation"
   ]
  },
  {
   "cell_type": "markdown",
   "id": "811b8815",
   "metadata": {},
   "source": [
    "## Loading in downloaded API data"
   ]
  },
  {
   "cell_type": "code",
   "execution_count": 115,
   "id": "8cef3153",
   "metadata": {},
   "outputs": [],
   "source": [
    "pickle_in = open('downloadedcensusdata.pickle', 'rb')\n",
    "datadict = pickle.load(pickle_in)"
   ]
  },
  {
   "cell_type": "code",
   "execution_count": 116,
   "id": "489d2c27",
   "metadata": {},
   "outputs": [
    {
     "data": {
      "text/html": [
       "<div>\n",
       "<style scoped>\n",
       "    .dataframe tbody tr th:only-of-type {\n",
       "        vertical-align: middle;\n",
       "    }\n",
       "\n",
       "    .dataframe tbody tr th {\n",
       "        vertical-align: top;\n",
       "    }\n",
       "\n",
       "    .dataframe thead th {\n",
       "        text-align: right;\n",
       "    }\n",
       "</style>\n",
       "<table border=\"1\" class=\"dataframe\">\n",
       "  <thead>\n",
       "    <tr style=\"text-align: right;\">\n",
       "      <th></th>\n",
       "      <th>Year</th>\n",
       "      <th>B01003_001E</th>\n",
       "      <th>B19049_001E</th>\n",
       "      <th>B19301_001E</th>\n",
       "      <th>B23025_003E</th>\n",
       "      <th>B23025_005E</th>\n",
       "      <th>B25001_001E</th>\n",
       "      <th>B25002_003E</th>\n",
       "      <th>B25058_001E</th>\n",
       "      <th>B25064_001E</th>\n",
       "      <th>B25071_001E</th>\n",
       "      <th>B25077_001E</th>\n",
       "      <th>B25083_001E</th>\n",
       "    </tr>\n",
       "  </thead>\n",
       "  <tbody>\n",
       "    <tr>\n",
       "      <th>Block Group 3, Census Tract 147.03, New Castle County, Delaware: Summary level: 150, state:10&gt; county:003&gt; tract:014703&gt; block group:3</th>\n",
       "      <td>2013</td>\n",
       "      <td>2593</td>\n",
       "      <td>57287</td>\n",
       "      <td>25211.0</td>\n",
       "      <td>1614</td>\n",
       "      <td>170</td>\n",
       "      <td>936</td>\n",
       "      <td>54</td>\n",
       "      <td>921</td>\n",
       "      <td>992</td>\n",
       "      <td>20.5</td>\n",
       "      <td>171800</td>\n",
       "      <td>-666666666</td>\n",
       "    </tr>\n",
       "  </tbody>\n",
       "</table>\n",
       "</div>"
      ],
      "text/plain": [
       "                                                    Year  B01003_001E  \\\n",
       "Block Group 3, Census Tract 147.03, New Castle ...  2013         2593   \n",
       "\n",
       "                                                    B19049_001E  B19301_001E  \\\n",
       "Block Group 3, Census Tract 147.03, New Castle ...        57287      25211.0   \n",
       "\n",
       "                                                    B23025_003E  B23025_005E  \\\n",
       "Block Group 3, Census Tract 147.03, New Castle ...         1614          170   \n",
       "\n",
       "                                                    B25001_001E  B25002_003E  \\\n",
       "Block Group 3, Census Tract 147.03, New Castle ...          936           54   \n",
       "\n",
       "                                                    B25058_001E  B25064_001E  \\\n",
       "Block Group 3, Census Tract 147.03, New Castle ...          921          992   \n",
       "\n",
       "                                                    B25071_001E  B25077_001E  \\\n",
       "Block Group 3, Census Tract 147.03, New Castle ...         20.5       171800   \n",
       "\n",
       "                                                    B25083_001E  \n",
       "Block Group 3, Census Tract 147.03, New Castle ...   -666666666  "
      ]
     },
     "execution_count": 116,
     "metadata": {},
     "output_type": "execute_result"
    }
   ],
   "source": [
    "datadict[2013].head(1)"
   ]
  },
  {
   "cell_type": "markdown",
   "id": "a109d23e",
   "metadata": {},
   "source": [
    "## Extracting georeferencing variables"
   ]
  },
  {
   "cell_type": "code",
   "execution_count": null,
   "id": "f3de03eb",
   "metadata": {},
   "outputs": [],
   "source": [
    "get_geoid = lambda censusgeo: '15000US' + ''.join([val for _, val in censusgeo.params()])\n",
    "get_state = lambda censusgeo: censusgeo.params()[0][1]\n",
    "get_county = lambda censusgeo: censusgeo.params()[1][1]\n",
    "get_tract = lambda censusgeo: censusgeo.params()[2][1]\n",
    "get_blockgroup = lambda censusgeo: censusgeo.params()[3][1]"
   ]
  },
  {
   "cell_type": "code",
   "execution_count": null,
   "id": "ac58e7ae",
   "metadata": {},
   "outputs": [],
   "source": [
    "# Array of years 2013-2020 for years in the dictionary\n",
    "years = [2013, 2014, 2015, 2016, 2017, 2018, 2019, 2020]"
   ]
  },
  {
   "cell_type": "code",
   "execution_count": null,
   "id": "b39c3281",
   "metadata": {},
   "outputs": [],
   "source": [
    "for year in years:\n",
    "    datadict[year].reset_index(inplace=True)\n",
    "    datadict[year].rename(columns={'index': 'censusgeo'}, inplace=True)"
   ]
  },
  {
   "cell_type": "code",
   "execution_count": null,
   "id": "35fa77cf",
   "metadata": {},
   "outputs": [],
   "source": [
    "for year in years:\n",
    "    datadict[year]['geoid'] = datadict[year]['censusgeo'].apply(get_geoid)        \n",
    "    datadict[year]['statefp'] = datadict[year]['censusgeo'].apply(get_state)\n",
    "    datadict[year]['countyfp'] = datadict[year]['censusgeo'].apply(get_county)\n",
    "    datadict[year]['tract'] = datadict[year]['censusgeo'].apply(get_tract)\n",
    "    datadict[year]['blockgroup'] = datadict[year]['censusgeo'].apply(get_blockgroup)\n",
    "    datadict[year]['statecountyfp'] = datadict[year]['statefp'] + datadict[year]['countyfp']"
   ]
  },
  {
   "cell_type": "code",
   "execution_count": null,
   "id": "d57ac6a8",
   "metadata": {},
   "outputs": [],
   "source": [
    "geoids_aux = GeoIDs[['MSA','StateCounty','State','County']]\n",
    "geoids_aux = geoids_aux.astype({'StateCounty': str})"
   ]
  },
  {
   "cell_type": "code",
   "execution_count": null,
   "id": "02efec26",
   "metadata": {},
   "outputs": [],
   "source": [
    "for year in years:\n",
    "    datadict[year] = datadict[year].merge(geoids_aux, left_on='statecountyfp', right_on='StateCounty')\n",
    "    datadict[year].drop(columns=['StateCounty'], inplace=True)"
   ]
  },
  {
   "cell_type": "markdown",
   "id": "88be9db1",
   "metadata": {},
   "source": [
    "## Removing and renaming variables"
   ]
  },
  {
   "cell_type": "code",
   "execution_count": null,
   "id": "ea58b839",
   "metadata": {},
   "outputs": [],
   "source": [
    "for year in years:\n",
    "    datadict[year].drop(columns=['B25083_001E','censusgeo'],inplace=True)"
   ]
  },
  {
   "cell_type": "code",
   "execution_count": null,
   "id": "14b44023",
   "metadata": {},
   "outputs": [],
   "source": [
    "for year in years:\n",
    "    datadict[year].rename(columns= {'Year':'year',\n",
    "                                   'B01003_001E': 'population',\n",
    "                                   'B19049_001E': 'medianhouseholdincome',\n",
    "                                   'B19301_001E': 'percapitaincome',\n",
    "                                   'B23025_003E': 'totalcivilianlaborforce',\n",
    "                                   'B23025_005E': 'unemployedpopulation',\n",
    "                                   'B25001_001E': 'totalhousingunits',\n",
    "                                   'B25002_003E': 'vacanthousingunits',\n",
    "                                   'B25058_001E': 'mediancontractrent',\n",
    "                                   'B25064_001E': 'mediangrossrent',\n",
    "                                   'B25071_001E': 'mediangrossretnaspercentageofhouseholdincome',\n",
    "                                   'B25077_001E': 'medianhomevalue',\n",
    "                                   'MSA': 'msa',\n",
    "                                   'State': 'state',\n",
    "                                   'County': 'county'}, inplace=True)"
   ]
  },
  {
   "cell_type": "code",
   "execution_count": null,
   "id": "faffb042",
   "metadata": {},
   "outputs": [],
   "source": [
    "datadict[2013].columns"
   ]
  },
  {
   "cell_type": "code",
   "execution_count": null,
   "id": "4607db0f",
   "metadata": {},
   "outputs": [],
   "source": [
    "dtypes = datadict[2013].dtypes.to_dict()"
   ]
  },
  {
   "cell_type": "code",
   "execution_count": null,
   "id": "9f4515eb",
   "metadata": {},
   "outputs": [],
   "source": [
    "pd.set_option('display.max_columns', None)\n",
    "datadict[2013].head(1)"
   ]
  },
  {
   "cell_type": "markdown",
   "id": "4cce516d",
   "metadata": {},
   "source": [
    "### Save progress to \"clean\" pickle! "
   ]
  },
  {
   "cell_type": "code",
   "execution_count": null,
   "id": "cf95d074",
   "metadata": {},
   "outputs": [],
   "source": [
    "# save dictionary \"datadict\" into pickle file\n",
    "pickle_out = open('cleanedcensusdatabase.pickle', 'wb')\n",
    "pickle.dump(datadict, pickle_out)\n",
    "pickle_out.close()"
   ]
  },
  {
   "cell_type": "code",
   "execution_count": null,
   "id": "de75a955",
   "metadata": {},
   "outputs": [],
   "source": [
    "# print file size\n",
    "print('File size of pickle file is', round(os.path.getsize('cleanedcensusdatabase.pickle') / (1024**2), 1), 'MB')"
   ]
  },
  {
   "cell_type": "markdown",
   "id": "ed682fa4",
   "metadata": {},
   "source": [
    "Resume point for loading cleaned pickle for continued work"
   ]
  },
  {
   "cell_type": "code",
   "execution_count": 117,
   "id": "fdd04288",
   "metadata": {},
   "outputs": [],
   "source": [
    "pickle_in = open('cleanedcensusdatabase.pickle', 'rb')\n",
    "workingdict = pickle.load(pickle_in)"
   ]
  },
  {
   "cell_type": "code",
   "execution_count": 118,
   "id": "35af39f9",
   "metadata": {},
   "outputs": [],
   "source": [
    "dtypes = workingdict[2013].dtypes.to_dict()"
   ]
  },
  {
   "cell_type": "code",
   "execution_count": 119,
   "id": "277e4aa8",
   "metadata": {},
   "outputs": [
    {
     "data": {
      "text/plain": [
       "year                                                           2013\n",
       "population                                                        0\n",
       "medianhouseholdincome                                    -666666666\n",
       "percapitaincome                                        -666666666.0\n",
       "totalcivilianlaborforce                                           0\n",
       "unemployedpopulation                                              0\n",
       "totalhousingunits                                                 0\n",
       "vacanthousingunits                                                0\n",
       "mediancontractrent                                       -666666666\n",
       "mediangrossrent                                          -666666666\n",
       "mediangrossretnaspercentageofhouseholdincome           -666666666.0\n",
       "medianhomevalue                                          -666666666\n",
       "geoid                                           15000US100030002001\n",
       "statefp                                                          10\n",
       "countyfp                                                        003\n",
       "tract                                                        000100\n",
       "blockgroup                                                        0\n",
       "statecountyfp                                                 10003\n",
       "msa                                                      Charleston\n",
       "state                                                      Delaware\n",
       "county                                               Bastrop County\n",
       "dtype: object"
      ]
     },
     "execution_count": 119,
     "metadata": {},
     "output_type": "execute_result"
    }
   ],
   "source": [
    "# Check for invalid data. Note that -666666666 values represent null or NaN values (compatible with Numpy's int datatypes)\n",
    "workingdict[2013].min()"
   ]
  },
  {
   "cell_type": "code",
   "execution_count": 120,
   "id": "b559caab",
   "metadata": {},
   "outputs": [
    {
     "data": {
      "text/plain": [
       "{'year': dtype('int64'),\n",
       " 'population': dtype('int64'),\n",
       " 'medianhouseholdincome': dtype('int64'),\n",
       " 'percapitaincome': dtype('float64'),\n",
       " 'totalcivilianlaborforce': dtype('int64'),\n",
       " 'unemployedpopulation': dtype('int64'),\n",
       " 'totalhousingunits': dtype('int64'),\n",
       " 'vacanthousingunits': dtype('int64'),\n",
       " 'mediancontractrent': dtype('int64'),\n",
       " 'mediangrossrent': dtype('int64'),\n",
       " 'mediangrossretnaspercentageofhouseholdincome': dtype('float64'),\n",
       " 'medianhomevalue': dtype('int64'),\n",
       " 'geoid': dtype('O'),\n",
       " 'statefp': dtype('O'),\n",
       " 'countyfp': dtype('O'),\n",
       " 'tract': dtype('O'),\n",
       " 'blockgroup': dtype('O'),\n",
       " 'statecountyfp': dtype('O'),\n",
       " 'msa': dtype('O'),\n",
       " 'state': dtype('O'),\n",
       " 'county': dtype('O')}"
      ]
     },
     "execution_count": 120,
     "metadata": {},
     "output_type": "execute_result"
    }
   ],
   "source": [
    "dtypes"
   ]
  },
  {
   "cell_type": "markdown",
   "id": "98a92186",
   "metadata": {},
   "source": [
    "## Reading in 1990, 2000, 2010-2012 data"
   ]
  },
  {
   "cell_type": "code",
   "execution_count": null,
   "id": "695b2273",
   "metadata": {},
   "outputs": [],
   "source": [
    "folder = r\"C:\\\\Users\\\\jenki\\\\Documents\\\\School\\\\Thesis\\\\Data\\Database Production\\\\\""
   ]
  },
  {
   "cell_type": "code",
   "execution_count": null,
   "id": "60230f0b",
   "metadata": {},
   "outputs": [],
   "source": [
    "otherdata = pd.read_csv(folder+\"databasecsv.csv\")"
   ]
  },
  {
   "cell_type": "code",
   "execution_count": null,
   "id": "a1190310",
   "metadata": {},
   "outputs": [],
   "source": [
    "# workaround for null values: fill with a negative value to match the dictionary. convert columns to same data types\n",
    "otherdata = otherdata.fillna(-666666666).astype(dtypes)"
   ]
  },
  {
   "cell_type": "code",
   "execution_count": null,
   "id": "13a66d20",
   "metadata": {},
   "outputs": [],
   "source": [
    "# workingdict[2015].info()"
   ]
  },
  {
   "cell_type": "code",
   "execution_count": null,
   "id": "5b178796",
   "metadata": {},
   "outputs": [],
   "source": [
    "otheryears = [1990, 2000, 2010, 2011, 2012]"
   ]
  },
  {
   "cell_type": "code",
   "execution_count": null,
   "id": "0efc6e43",
   "metadata": {},
   "outputs": [],
   "source": [
    "# Add read data into workingdict\n",
    "for year in set(otherdata.year):\n",
    "    workingdict[year] = otherdata[otherdata.year == year].copy()"
   ]
  },
  {
   "cell_type": "markdown",
   "id": "48aaf6c2",
   "metadata": {},
   "source": [
    "# Cleaning Database"
   ]
  },
  {
   "cell_type": "markdown",
   "id": "413e83a8",
   "metadata": {},
   "source": [
    "## Null values\n",
    "Replace all null values in the database with -666666666 to standardize the negative values across the whole database (both dataframe and dictionary)."
   ]
  },
  {
   "cell_type": "code",
   "execution_count": null,
   "id": "97e9599a",
   "metadata": {},
   "outputs": [],
   "source": [
    "keys = list(workingdict.keys())"
   ]
  },
  {
   "cell_type": "code",
   "execution_count": null,
   "id": "4f393213",
   "metadata": {},
   "outputs": [],
   "source": [
    "# replace null values in dictionary with -666666666\n",
    "for year in keys:\n",
    "    workingdict[year] = workingdict[year].fillna(-666666666)"
   ]
  },
  {
   "cell_type": "code",
   "execution_count": null,
   "id": "9851ef8a",
   "metadata": {},
   "outputs": [],
   "source": [
    "# Create dataframe from the dictionary\n",
    "alldata = pd.concat(workingdict.values())"
   ]
  },
  {
   "cell_type": "code",
   "execution_count": null,
   "id": "3243a657",
   "metadata": {
    "scrolled": true
   },
   "outputs": [],
   "source": [
    "# Check info to confirm data types and number of null/non-null values\n",
    "alldata.info()"
   ]
  },
  {
   "cell_type": "markdown",
   "id": "8bf607bd",
   "metadata": {},
   "source": [
    "## Save progress to new pickles!"
   ]
  },
  {
   "cell_type": "code",
   "execution_count": null,
   "id": "60587312",
   "metadata": {},
   "outputs": [],
   "source": [
    "# save dataframe \"alldata\" into pickle file\n",
    "pickle_out = open('alldatadf.pickle', 'wb')\n",
    "pickle.dump(alldata, pickle_out)\n",
    "pickle_out.close()"
   ]
  },
  {
   "cell_type": "code",
   "execution_count": null,
   "id": "d5237474",
   "metadata": {},
   "outputs": [],
   "source": [
    "# print file size\n",
    "print('File size of pickle file is', round(os.path.getsize('alldatadf.pickle') / (1024**2), 1), 'MB')"
   ]
  },
  {
   "cell_type": "code",
   "execution_count": null,
   "id": "e1478e24",
   "metadata": {},
   "outputs": [],
   "source": [
    "# save dictionary \"datadict\" into new pickle file\n",
    "pickle_out = open('alldatadict.pickle', 'wb')\n",
    "pickle.dump(workingdict, pickle_out)\n",
    "pickle_out.close()"
   ]
  },
  {
   "cell_type": "markdown",
   "id": "883180c1",
   "metadata": {},
   "source": [
    "## Checkpoint\n",
    "Checking to see how many BG index values stay consistent over the years of data available"
   ]
  },
  {
   "cell_type": "code",
   "execution_count": 121,
   "id": "476a4504",
   "metadata": {},
   "outputs": [],
   "source": [
    "pickle_in = open('alldatadf.pickle', 'rb')\n",
    "alldata = pickle.load(pickle_in)"
   ]
  },
  {
   "cell_type": "code",
   "execution_count": 122,
   "id": "48a406a5",
   "metadata": {},
   "outputs": [],
   "source": [
    "g = alldata.groupby(['geoid', 'year']).agg({'tract': 'count'}).reset_index()"
   ]
  },
  {
   "cell_type": "code",
   "execution_count": 123,
   "id": "25273e2b",
   "metadata": {},
   "outputs": [
    {
     "data": {
      "text/html": [
       "<div>\n",
       "<style scoped>\n",
       "    .dataframe tbody tr th:only-of-type {\n",
       "        vertical-align: middle;\n",
       "    }\n",
       "\n",
       "    .dataframe tbody tr th {\n",
       "        vertical-align: top;\n",
       "    }\n",
       "\n",
       "    .dataframe thead th {\n",
       "        text-align: right;\n",
       "    }\n",
       "</style>\n",
       "<table border=\"1\" class=\"dataframe\">\n",
       "  <thead>\n",
       "    <tr style=\"text-align: right;\">\n",
       "      <th></th>\n",
       "      <th>geoid</th>\n",
       "    </tr>\n",
       "    <tr>\n",
       "      <th>year</th>\n",
       "      <th></th>\n",
       "    </tr>\n",
       "  </thead>\n",
       "  <tbody>\n",
       "    <tr>\n",
       "      <th>1990</th>\n",
       "      <td>17379</td>\n",
       "    </tr>\n",
       "    <tr>\n",
       "      <th>2000</th>\n",
       "      <td>15895</td>\n",
       "    </tr>\n",
       "    <tr>\n",
       "      <th>2010</th>\n",
       "      <td>15249</td>\n",
       "    </tr>\n",
       "    <tr>\n",
       "      <th>2011</th>\n",
       "      <td>15249</td>\n",
       "    </tr>\n",
       "    <tr>\n",
       "      <th>2012</th>\n",
       "      <td>15249</td>\n",
       "    </tr>\n",
       "    <tr>\n",
       "      <th>2013</th>\n",
       "      <td>15249</td>\n",
       "    </tr>\n",
       "    <tr>\n",
       "      <th>2014</th>\n",
       "      <td>15249</td>\n",
       "    </tr>\n",
       "    <tr>\n",
       "      <th>2015</th>\n",
       "      <td>15249</td>\n",
       "    </tr>\n",
       "    <tr>\n",
       "      <th>2016</th>\n",
       "      <td>15249</td>\n",
       "    </tr>\n",
       "    <tr>\n",
       "      <th>2017</th>\n",
       "      <td>15249</td>\n",
       "    </tr>\n",
       "    <tr>\n",
       "      <th>2018</th>\n",
       "      <td>15249</td>\n",
       "    </tr>\n",
       "    <tr>\n",
       "      <th>2019</th>\n",
       "      <td>15249</td>\n",
       "    </tr>\n",
       "    <tr>\n",
       "      <th>2020</th>\n",
       "      <td>15964</td>\n",
       "    </tr>\n",
       "  </tbody>\n",
       "</table>\n",
       "</div>"
      ],
      "text/plain": [
       "      geoid\n",
       "year       \n",
       "1990  17379\n",
       "2000  15895\n",
       "2010  15249\n",
       "2011  15249\n",
       "2012  15249\n",
       "2013  15249\n",
       "2014  15249\n",
       "2015  15249\n",
       "2016  15249\n",
       "2017  15249\n",
       "2018  15249\n",
       "2019  15249\n",
       "2020  15964"
      ]
     },
     "execution_count": 123,
     "metadata": {},
     "output_type": "execute_result"
    }
   ],
   "source": [
    "g.groupby('year').agg({'geoid': 'count'})"
   ]
  },
  {
   "cell_type": "code",
   "execution_count": 124,
   "id": "a7af619c",
   "metadata": {},
   "outputs": [],
   "source": [
    "g = g.groupby(['geoid']).agg({'year': 'count'}).reset_index()"
   ]
  },
  {
   "cell_type": "code",
   "execution_count": 125,
   "id": "ad8061b0",
   "metadata": {},
   "outputs": [
    {
     "data": {
      "text/html": [
       "<div>\n",
       "<style scoped>\n",
       "    .dataframe tbody tr th:only-of-type {\n",
       "        vertical-align: middle;\n",
       "    }\n",
       "\n",
       "    .dataframe tbody tr th {\n",
       "        vertical-align: top;\n",
       "    }\n",
       "\n",
       "    .dataframe thead th {\n",
       "        text-align: right;\n",
       "    }\n",
       "</style>\n",
       "<table border=\"1\" class=\"dataframe\">\n",
       "  <thead>\n",
       "    <tr style=\"text-align: right;\">\n",
       "      <th></th>\n",
       "      <th>geoid</th>\n",
       "    </tr>\n",
       "    <tr>\n",
       "      <th>year</th>\n",
       "      <th></th>\n",
       "    </tr>\n",
       "  </thead>\n",
       "  <tbody>\n",
       "    <tr>\n",
       "      <th>1</th>\n",
       "      <td>13641</td>\n",
       "    </tr>\n",
       "    <tr>\n",
       "      <th>2</th>\n",
       "      <td>2202</td>\n",
       "    </tr>\n",
       "    <tr>\n",
       "      <th>3</th>\n",
       "      <td>66</td>\n",
       "    </tr>\n",
       "    <tr>\n",
       "      <th>10</th>\n",
       "      <td>938</td>\n",
       "    </tr>\n",
       "    <tr>\n",
       "      <th>11</th>\n",
       "      <td>3488</td>\n",
       "    </tr>\n",
       "    <tr>\n",
       "      <th>12</th>\n",
       "      <td>4962</td>\n",
       "    </tr>\n",
       "    <tr>\n",
       "      <th>13</th>\n",
       "      <td>5861</td>\n",
       "    </tr>\n",
       "  </tbody>\n",
       "</table>\n",
       "</div>"
      ],
      "text/plain": [
       "      geoid\n",
       "year       \n",
       "1     13641\n",
       "2      2202\n",
       "3        66\n",
       "10      938\n",
       "11     3488\n",
       "12     4962\n",
       "13     5861"
      ]
     },
     "execution_count": 125,
     "metadata": {},
     "output_type": "execute_result"
    }
   ],
   "source": [
    "g.groupby('year').agg({'geoid': 'count'})"
   ]
  },
  {
   "cell_type": "markdown",
   "id": "7d518bf6",
   "metadata": {},
   "source": [
    "## Remove rows with no data\n",
    "Moving forward we will work in the dataframe.\n",
    "Check for rows that have 0 or -666666666 values across all of the columns. Where this occurs, drop the row from the database entirely. "
   ]
  },
  {
   "cell_type": "code",
   "execution_count": 102,
   "id": "f2045064",
   "metadata": {},
   "outputs": [
    {
     "data": {
      "text/plain": [
       "Index(['year', 'population', 'medianhouseholdincome', 'percapitaincome',\n",
       "       'totalcivilianlaborforce', 'unemployedpopulation', 'totalhousingunits',\n",
       "       'vacanthousingunits', 'mediancontractrent', 'mediangrossrent',\n",
       "       'mediangrossretnaspercentageofhouseholdincome', 'medianhomevalue',\n",
       "       'geoid', 'statefp', 'countyfp', 'tract', 'blockgroup', 'statecountyfp',\n",
       "       'msa', 'state', 'county'],\n",
       "      dtype='object')"
      ]
     },
     "execution_count": 102,
     "metadata": {},
     "output_type": "execute_result"
    }
   ],
   "source": [
    "# Read in database pickles and check\n",
    "pickle_in = open('alldatadf.pickle', 'rb')\n",
    "cleaning = pickle.load(pickle_in)\n",
    "cleaning.columns"
   ]
  },
  {
   "cell_type": "code",
   "execution_count": 104,
   "id": "3f431990",
   "metadata": {},
   "outputs": [
    {
     "data": {
      "text/plain": [
       "(201728, 21)"
      ]
     },
     "execution_count": 104,
     "metadata": {},
     "output_type": "execute_result"
    }
   ],
   "source": [
    "cleaning.shape"
   ]
  },
  {
   "cell_type": "code",
   "execution_count": 105,
   "id": "a5c9c8e7",
   "metadata": {},
   "outputs": [],
   "source": [
    "# Keep rows where at least one of the indicators has a value greater than 0.\n",
    "cleaning = cleaning[(cleaning.medianhouseholdincome > 0) | \n",
    "                   (cleaning.percapitaincome > 0) |\n",
    "                   (cleaning.totalcivilianlaborforce > 0) |\n",
    "                   (cleaning.unemployedpopulation > 0) |\n",
    "                   (cleaning.totalhousingunits > 0) |\n",
    "                   (cleaning.vacanthousingunits > 0) |\n",
    "                   (cleaning.mediancontractrent > 0) |\n",
    "                   (cleaning.mediangrossrent > 0) |\n",
    "                   (cleaning.mediangrossretnaspercentageofhouseholdincome > 0) |\n",
    "                   (cleaning.medianhomevalue > 0)]"
   ]
  },
  {
   "cell_type": "code",
   "execution_count": 106,
   "id": "960b7f30",
   "metadata": {},
   "outputs": [
    {
     "data": {
      "text/plain": [
       "(200512, 21)"
      ]
     },
     "execution_count": 106,
     "metadata": {},
     "output_type": "execute_result"
    }
   ],
   "source": [
    "cleaning.shape"
   ]
  },
  {
   "cell_type": "markdown",
   "id": "255c9a0b",
   "metadata": {},
   "source": [
    "Check to see how many BGs are left across each year"
   ]
  },
  {
   "cell_type": "code",
   "execution_count": 107,
   "id": "61830ae2",
   "metadata": {},
   "outputs": [],
   "source": [
    "g = cleaning.groupby(['geoid', 'year']).agg({'tract': 'count'}).reset_index()"
   ]
  },
  {
   "cell_type": "code",
   "execution_count": 108,
   "id": "af385b79",
   "metadata": {
    "scrolled": true
   },
   "outputs": [
    {
     "data": {
      "text/html": [
       "<div>\n",
       "<style scoped>\n",
       "    .dataframe tbody tr th:only-of-type {\n",
       "        vertical-align: middle;\n",
       "    }\n",
       "\n",
       "    .dataframe tbody tr th {\n",
       "        vertical-align: top;\n",
       "    }\n",
       "\n",
       "    .dataframe thead th {\n",
       "        text-align: right;\n",
       "    }\n",
       "</style>\n",
       "<table border=\"1\" class=\"dataframe\">\n",
       "  <thead>\n",
       "    <tr style=\"text-align: right;\">\n",
       "      <th></th>\n",
       "      <th>geoid</th>\n",
       "    </tr>\n",
       "    <tr>\n",
       "      <th>year</th>\n",
       "      <th></th>\n",
       "    </tr>\n",
       "  </thead>\n",
       "  <tbody>\n",
       "    <tr>\n",
       "      <th>1990</th>\n",
       "      <td>17195</td>\n",
       "    </tr>\n",
       "    <tr>\n",
       "      <th>2000</th>\n",
       "      <td>15809</td>\n",
       "    </tr>\n",
       "    <tr>\n",
       "      <th>2010</th>\n",
       "      <td>15192</td>\n",
       "    </tr>\n",
       "    <tr>\n",
       "      <th>2011</th>\n",
       "      <td>15197</td>\n",
       "    </tr>\n",
       "    <tr>\n",
       "      <th>2012</th>\n",
       "      <td>15197</td>\n",
       "    </tr>\n",
       "    <tr>\n",
       "      <th>2013</th>\n",
       "      <td>15198</td>\n",
       "    </tr>\n",
       "    <tr>\n",
       "      <th>2014</th>\n",
       "      <td>15200</td>\n",
       "    </tr>\n",
       "    <tr>\n",
       "      <th>2015</th>\n",
       "      <td>15200</td>\n",
       "    </tr>\n",
       "    <tr>\n",
       "      <th>2016</th>\n",
       "      <td>15200</td>\n",
       "    </tr>\n",
       "    <tr>\n",
       "      <th>2017</th>\n",
       "      <td>15201</td>\n",
       "    </tr>\n",
       "    <tr>\n",
       "      <th>2018</th>\n",
       "      <td>15200</td>\n",
       "    </tr>\n",
       "    <tr>\n",
       "      <th>2019</th>\n",
       "      <td>15198</td>\n",
       "    </tr>\n",
       "    <tr>\n",
       "      <th>2020</th>\n",
       "      <td>15525</td>\n",
       "    </tr>\n",
       "  </tbody>\n",
       "</table>\n",
       "</div>"
      ],
      "text/plain": [
       "      geoid\n",
       "year       \n",
       "1990  17195\n",
       "2000  15809\n",
       "2010  15192\n",
       "2011  15197\n",
       "2012  15197\n",
       "2013  15198\n",
       "2014  15200\n",
       "2015  15200\n",
       "2016  15200\n",
       "2017  15201\n",
       "2018  15200\n",
       "2019  15198\n",
       "2020  15525"
      ]
     },
     "execution_count": 108,
     "metadata": {},
     "output_type": "execute_result"
    }
   ],
   "source": [
    "g.groupby('year').agg({'geoid': 'count'})"
   ]
  },
  {
   "cell_type": "code",
   "execution_count": 111,
   "id": "99eff99a",
   "metadata": {},
   "outputs": [],
   "source": [
    "# save dataframe \"cleaning\" into pickle file\n",
    "pickle_out = open('cleaneddatadf.pickle', 'wb')\n",
    "pickle.dump(cleaning, pickle_out)\n",
    "pickle_out.close()"
   ]
  },
  {
   "cell_type": "code",
   "execution_count": null,
   "id": "5237324e",
   "metadata": {},
   "outputs": [],
   "source": []
  }
 ],
 "metadata": {
  "kernelspec": {
   "display_name": "Python 3 (ipykernel)",
   "language": "python",
   "name": "python3"
  },
  "language_info": {
   "codemirror_mode": {
    "name": "ipython",
    "version": 3
   },
   "file_extension": ".py",
   "mimetype": "text/x-python",
   "name": "python",
   "nbconvert_exporter": "python",
   "pygments_lexer": "ipython3",
   "version": "3.9.12"
  }
 },
 "nbformat": 4,
 "nbformat_minor": 5
}
