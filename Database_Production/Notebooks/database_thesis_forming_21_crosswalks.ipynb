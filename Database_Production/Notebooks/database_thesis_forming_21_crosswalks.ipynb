{
 "cells": [
  {
   "cell_type": "markdown",
   "id": "de4d7897",
   "metadata": {},
   "source": [
    "# Data transformation with crosswalks\n",
    "Crosswalking 1990, 2000, and 2010-2019 data to 2020 geographies using the multipliers that were formed in the previous notebook.\n",
    "\n",
    "The cleaned data (that is, with all null rows removed) will be transformed using the derived crosswalks.\n",
    "The approach taken is using the concatenated data (in dataframe) instead of from the dictionary as previously performed."
   ]
  },
  {
   "cell_type": "code",
   "execution_count": 1,
   "id": "ef8ddb2d",
   "metadata": {},
   "outputs": [],
   "source": [
    "# Set up all packages that may be used\n",
    "\n",
    "import pandas as pd\n",
    "import sys\n",
    "import numpy as np\n",
    "import scipy as sp\n",
    "import pickle\n",
    "import os\n",
    "\n",
    "# import matplotlib.pyplot as plt\n",
    "# from math import radians, cos, sin, asin, sqrt\n",
    "# import datetime\n",
    "# from sklearn.linear_model import LinearRegression\n",
    "# import seaborn as sns\n",
    "# sns.set(style=\"ticks\")\n",
    "# %matplotlib inline\n",
    "\n",
    "pd.set_option('display.max_columns', None)\n",
    "# import geopandas as gpd\n",
    "# import contexily as ctx\n",
    "# import matlabplotlib.pyplot as plt"
   ]
  },
  {
   "cell_type": "markdown",
   "id": "6be2ea33",
   "metadata": {},
   "source": [
    "## Set up data to be used"
   ]
  },
  {
   "cell_type": "code",
   "execution_count": 2,
   "id": "0b90c665",
   "metadata": {},
   "outputs": [],
   "source": [
    "# Read in multiplier files\n",
    "newfolder = r\"C:\\\\Users\\\\jenki\\\\Documents\\\\School\\\\Thesis\\\\Data\\NHGIS Data\\\\Crosswalks\\\\GEOID\\\\CrosswalkMultipliers\\\\\"\n",
    "x90 = pd.read_csv(newfolder + \"multiplierweights90-20.csv\")\n",
    "x00 = pd.read_csv(newfolder + \"multiplierweights00-20.csv\")\n",
    "x10 = pd.read_csv(newfolder + \"multiplierweights10-20.csv\")"
   ]
  },
  {
   "cell_type": "code",
   "execution_count": 3,
   "id": "b55876a7",
   "metadata": {},
   "outputs": [],
   "source": [
    "# From multiplier files, convert GEOID90BG and GEOID20BG to object type\n",
    "x90 = x90.astype({'GEOID90BG':str, 'GEOID20BG':str}) \n",
    "x00 = x00.astype({'GEOID00BG':str, 'GEOID20BG':str}) \n",
    "x10 = x10.astype({'GEOID10BG':str, 'GEOID20BG':str}) "
   ]
  },
  {
   "cell_type": "code",
   "execution_count": 4,
   "id": "1919e2a2",
   "metadata": {},
   "outputs": [
    {
     "data": {
      "text/plain": [
       "array([2013, 2014, 2015, 2016, 2017, 2018, 2019, 2020, 1990, 2000, 2010,\n",
       "       2011, 2012], dtype=int64)"
      ]
     },
     "execution_count": 4,
     "metadata": {},
     "output_type": "execute_result"
    }
   ],
   "source": [
    "# Read in database pickle and check\n",
    "pickle_in = open('cleaneddatadf.pickle', 'rb')\n",
    "data = pickle.load(pickle_in)\n",
    "data['year'].unique()"
   ]
  },
  {
   "cell_type": "code",
   "execution_count": 5,
   "id": "e6aee46c",
   "metadata": {},
   "outputs": [],
   "source": [
    "# Establish variables to be used \n",
    "indicators = ['population', 'totalcivilianlaborforce','unemployedpopulation','totalhousingunits','vacanthousingunits']\n",
    "attributes = ['year','tract','state','county','msa','medianhouseholdincome','percapitaincome','mediancontractrent','mediangrossrent','medianhomevalue']\n",
    "columns = indicators+attributes"
   ]
  },
  {
   "cell_type": "markdown",
   "id": "cf7026ef",
   "metadata": {},
   "source": [
    "## Prepare data for transformation"
   ]
  },
  {
   "cell_type": "code",
   "execution_count": 6,
   "id": "99b08f31",
   "metadata": {},
   "outputs": [
    {
     "data": {
      "text/plain": [
       "0"
      ]
     },
     "execution_count": 6,
     "metadata": {},
     "output_type": "execute_result"
    }
   ],
   "source": [
    "# Check for na values\n",
    "data.isna().sum().sum()"
   ]
  },
  {
   "cell_type": "code",
   "execution_count": 7,
   "id": "64f76ed0",
   "metadata": {},
   "outputs": [],
   "source": [
    "# add new column 'geoidBG' for reference when performing merge and multiplication. \n",
    "data['geoidBG'] = data['geoid'].str[7:]"
   ]
  },
  {
   "cell_type": "markdown",
   "id": "2185b841",
   "metadata": {},
   "source": [
    "## Filter and transform 1990 data"
   ]
  },
  {
   "cell_type": "code",
   "execution_count": 8,
   "id": "4b9ed46c",
   "metadata": {},
   "outputs": [],
   "source": [
    "data90 = data[data['year']==1990]"
   ]
  },
  {
   "cell_type": "code",
   "execution_count": 9,
   "id": "104ba1bc",
   "metadata": {},
   "outputs": [],
   "source": [
    "# Merge multiplier file to 1990 dataframe\n",
    "merge90 = data90.merge(x90, left_on='geoidBG', right_on='GEOID90BG', how='inner')"
   ]
  },
  {
   "cell_type": "code",
   "execution_count": 10,
   "id": "ff8b1726",
   "metadata": {},
   "outputs": [],
   "source": [
    "# For all count-based indicators, multiply by weight from crosswalk\n",
    "for x in indicators:\n",
    "    merge90[x] = merge90[x]*merge90['WEIGHT']\n",
    "    merge90[x].apply(np.ceil)\n",
    "    merge90 = merge90.astype({x:int})"
   ]
  },
  {
   "cell_type": "code",
   "execution_count": 11,
   "id": "14640538",
   "metadata": {},
   "outputs": [],
   "source": [
    "# Group block groups by unique block group values from 2020, using maximum values. Summation only makes sense if the crosswalks are given by block group, or if we are transforming the data from blocks.\n",
    "group90 = merge90.groupby(['GEOID20BG']).agg({'year':'max','msa':'max','state':'max','county':'max','tract':'max', 'blockgroup':'max',\n",
    "                                         'population':'max', 'totalcivilianlaborforce':'max', 'unemployedpopulation':'max',\n",
    "                                         'totalhousingunits':'max', 'vacanthousingunits':'max',\n",
    "                                         'medianhouseholdincome':'max', 'percapitaincome':'max','mediancontractrent':'max', 'mediangrossrent':'max', 'medianhomevalue':'max', 'mediangrossretnaspercentageofhouseholdincome':'max'\n",
    "                                         })\n",
    "group90.reset_index(inplace=True)"
   ]
  },
  {
   "cell_type": "markdown",
   "id": "552ce98f",
   "metadata": {},
   "source": [
    "## Filter and transform 2000 data"
   ]
  },
  {
   "cell_type": "code",
   "execution_count": 12,
   "id": "2207dc7d",
   "metadata": {},
   "outputs": [],
   "source": [
    "data00 = data[data['year']==2000]"
   ]
  },
  {
   "cell_type": "code",
   "execution_count": 13,
   "id": "54433a17",
   "metadata": {},
   "outputs": [],
   "source": [
    "# Merge multiplier file to 2000 dataframe\n",
    "merge00 = data00.merge(x00, left_on='geoidBG', right_on='GEOID00BG', how='inner')"
   ]
  },
  {
   "cell_type": "code",
   "execution_count": 14,
   "id": "384e21f3",
   "metadata": {},
   "outputs": [
    {
     "data": {
      "text/plain": [
       "11501"
      ]
     },
     "execution_count": 14,
     "metadata": {},
     "output_type": "execute_result"
    }
   ],
   "source": [
    "merge00.GEOID00BG.nunique()"
   ]
  },
  {
   "cell_type": "code",
   "execution_count": 15,
   "id": "f20bc172",
   "metadata": {},
   "outputs": [],
   "source": [
    "# For all count-based indicators, multiply by weight from crosswalk\n",
    "for x in indicators:\n",
    "    merge00[x] = merge00[x]*merge00['WEIGHT']\n",
    "    merge00[x].apply(np.ceil)\n",
    "    merge00 = merge00.astype({x:int})"
   ]
  },
  {
   "cell_type": "code",
   "execution_count": 16,
   "id": "075de351",
   "metadata": {},
   "outputs": [],
   "source": [
    "group00 = merge00.groupby(['GEOID20BG']).agg({'year':'max','msa':'max','state':'max','county':'max','tract':'max', 'blockgroup':'max',\n",
    "                                         'population':'max', 'totalcivilianlaborforce':'max', 'unemployedpopulation':'max',\n",
    "                                         'totalhousingunits':'max', 'vacanthousingunits':'max',\n",
    "                                         'medianhouseholdincome':'max', 'percapitaincome':'max','mediancontractrent':'max', 'mediangrossrent':'max', 'medianhomevalue':'max', 'mediangrossretnaspercentageofhouseholdincome':'max'\n",
    "                                         })\n",
    "group00.reset_index(inplace=True)"
   ]
  },
  {
   "cell_type": "code",
   "execution_count": 17,
   "id": "d08ad8fe",
   "metadata": {},
   "outputs": [
    {
     "data": {
      "text/plain": [
       "11539"
      ]
     },
     "execution_count": 17,
     "metadata": {},
     "output_type": "execute_result"
    }
   ],
   "source": [
    "len(group00)"
   ]
  },
  {
   "cell_type": "markdown",
   "id": "21ac5ec7",
   "metadata": {},
   "source": [
    "## Filter and transform 2010-2019 data"
   ]
  },
  {
   "cell_type": "code",
   "execution_count": 18,
   "id": "06f0ed21",
   "metadata": {},
   "outputs": [],
   "source": [
    "years = [2010, 2011, 2012, 2013, 2014, 2015, 2016, 2017, 2018, 2019]"
   ]
  },
  {
   "cell_type": "code",
   "execution_count": 19,
   "id": "f8e74a91",
   "metadata": {},
   "outputs": [
    {
     "data": {
      "text/plain": [
       "151983"
      ]
     },
     "execution_count": 19,
     "metadata": {},
     "output_type": "execute_result"
    }
   ],
   "source": [
    "datayears = data.query('year in @years')\n",
    "len(datayears)"
   ]
  },
  {
   "cell_type": "code",
   "execution_count": 20,
   "id": "d902b5c7",
   "metadata": {},
   "outputs": [],
   "source": [
    "merge = {}\n",
    "for y in years:\n",
    "    datayear = data[data['year']==y]\n",
    "    merge[y] = datayear.merge(x10, left_on='geoidBG', right_on='GEOID10BG', how='inner')"
   ]
  },
  {
   "cell_type": "code",
   "execution_count": 21,
   "id": "cb90c995",
   "metadata": {},
   "outputs": [],
   "source": [
    "dictgroup = {}\n",
    "\n",
    "for y in years:\n",
    "    group = merge[y].groupby(['GEOID20BG']).agg({'year':'max','msa':'max','state':'max','county':'max','tract':'max', 'blockgroup':'max',\n",
    "                                         'population':'max', 'totalcivilianlaborforce':'max', 'unemployedpopulation':'max',\n",
    "                                         'totalhousingunits':'max', 'vacanthousingunits':'max',\n",
    "                                         'medianhouseholdincome':'max', 'percapitaincome':'max','mediancontractrent':'max', 'mediangrossrent':'max', 'medianhomevalue':'max', 'mediangrossretnaspercentageofhouseholdincome':'max'\n",
    "                                         })\n",
    "   \n",
    "    group.reset_index(inplace=True)\n",
    "    \n",
    "    dictgroup[y] = group"
   ]
  },
  {
   "cell_type": "markdown",
   "id": "8590d19e",
   "metadata": {},
   "source": [
    "## Compile all years of transformed data"
   ]
  },
  {
   "cell_type": "code",
   "execution_count": 22,
   "id": "06fcc731",
   "metadata": {},
   "outputs": [],
   "source": [
    "# Copy dataframes for 1990 and 2000 data (grouped) into the new dictionary of data\n",
    "dictgroup[1990] = group90.copy()\n",
    "dictgroup[2000] = group00.copy()"
   ]
  },
  {
   "cell_type": "markdown",
   "id": "f42f4dcc",
   "metadata": {},
   "source": [
    "### Clean 2020 data into the same format (columns and all) to insert into the new dictionary of data"
   ]
  },
  {
   "cell_type": "code",
   "execution_count": 23,
   "id": "2a990f3f",
   "metadata": {},
   "outputs": [
    {
     "data": {
      "text/plain": [
       "Index(['GEOID20BG', 'year', 'msa', 'state', 'county', 'tract', 'blockgroup',\n",
       "       'population', 'totalcivilianlaborforce', 'unemployedpopulation',\n",
       "       'totalhousingunits', 'vacanthousingunits', 'medianhouseholdincome',\n",
       "       'percapitaincome', 'mediancontractrent', 'mediangrossrent',\n",
       "       'medianhomevalue', 'mediangrossretnaspercentageofhouseholdincome'],\n",
       "      dtype='object')"
      ]
     },
     "execution_count": 23,
     "metadata": {},
     "output_type": "execute_result"
    }
   ],
   "source": [
    "dictgroup[2000].columns"
   ]
  },
  {
   "cell_type": "code",
   "execution_count": 24,
   "id": "f6cbee6a",
   "metadata": {},
   "outputs": [],
   "source": [
    "# Create new dataframe for 2020 data\n",
    "data20 = data[data['year']== 2020]"
   ]
  },
  {
   "cell_type": "code",
   "execution_count": 25,
   "id": "731c5cad",
   "metadata": {},
   "outputs": [
    {
     "data": {
      "text/plain": [
       "Index(['year', 'population', 'medianhouseholdincome', 'percapitaincome',\n",
       "       'totalcivilianlaborforce', 'unemployedpopulation', 'totalhousingunits',\n",
       "       'vacanthousingunits', 'mediancontractrent', 'mediangrossrent',\n",
       "       'mediangrossretnaspercentageofhouseholdincome', 'medianhomevalue',\n",
       "       'geoid', 'statefp', 'countyfp', 'tract', 'blockgroup', 'statecountyfp',\n",
       "       'msa', 'state', 'county', 'geoidBG'],\n",
       "      dtype='object')"
      ]
     },
     "execution_count": 25,
     "metadata": {},
     "output_type": "execute_result"
    }
   ],
   "source": [
    "data20.columns"
   ]
  },
  {
   "cell_type": "code",
   "execution_count": 26,
   "id": "ec826e0f",
   "metadata": {},
   "outputs": [
    {
     "name": "stderr",
     "output_type": "stream",
     "text": [
      "C:\\Users\\jenki\\AppData\\Local\\Temp\\ipykernel_1008\\3185087900.py:2: SettingWithCopyWarning: \n",
      "A value is trying to be set on a copy of a slice from a DataFrame\n",
      "\n",
      "See the caveats in the documentation: https://pandas.pydata.org/pandas-docs/stable/user_guide/indexing.html#returning-a-view-versus-a-copy\n",
      "  data20.rename(columns = {'geoidBG':'GEOID20BG'}, inplace = True)\n"
     ]
    }
   ],
   "source": [
    "# Rename geoidBG column to GEOID20BG\n",
    "data20.rename(columns = {'geoidBG':'GEOID20BG'}, inplace = True)"
   ]
  },
  {
   "cell_type": "code",
   "execution_count": 27,
   "id": "11166adb",
   "metadata": {},
   "outputs": [],
   "source": [
    "# Add to dictgroup dictionary\n",
    "dictgroup[2020] = data20.copy()"
   ]
  },
  {
   "cell_type": "markdown",
   "id": "5410d426",
   "metadata": {},
   "source": [
    "### Convert all dataframe datatypes into the same types"
   ]
  },
  {
   "cell_type": "code",
   "execution_count": 28,
   "id": "45f6c132",
   "metadata": {},
   "outputs": [],
   "source": [
    "group90 = group90.astype({'population':\"Int64\", \n",
    "                          'totalcivilianlaborforce':\"Int64\", \n",
    "                          'unemployedpopulation':\"Int64\", \n",
    "                          'totalhousingunits':\"Int64\", \n",
    "                          'vacanthousingunits':\"Int64\"})"
   ]
  },
  {
   "cell_type": "code",
   "execution_count": 29,
   "id": "d38f89ef",
   "metadata": {},
   "outputs": [],
   "source": [
    "dtypes_new = group90.dtypes.to_dict()"
   ]
  },
  {
   "cell_type": "code",
   "execution_count": 30,
   "id": "6f7cf3da",
   "metadata": {},
   "outputs": [
    {
     "data": {
      "text/plain": [
       "[2010, 2011, 2012, 2013, 2014, 2015, 2016, 2017, 2018, 2019, 1990, 2000, 2020]"
      ]
     },
     "execution_count": 30,
     "metadata": {},
     "output_type": "execute_result"
    }
   ],
   "source": [
    "keys = list(dictgroup.keys())\n",
    "keys"
   ]
  },
  {
   "cell_type": "code",
   "execution_count": 31,
   "id": "90cda98a",
   "metadata": {},
   "outputs": [],
   "source": [
    "for key in keys:\n",
    "    dictgroup[key] = dictgroup[key].astype(dtypes_new)"
   ]
  },
  {
   "cell_type": "code",
   "execution_count": 36,
   "id": "91001b6f",
   "metadata": {},
   "outputs": [],
   "source": [
    "# Convert all negative values to null\n",
    "for year in keys:\n",
    "    dictgroup[year].loc[dictgroup[year][\"totalcivilianlaborforce\"] < 0, \"totalcivilianlaborforce\"] = np.nan\n",
    "    dictgroup[year].loc[dictgroup[year][\"unemployedpopulation\"] < 0, \"unemployedpopulation\"] = np.nan\n",
    "    dictgroup[year].loc[dictgroup[year][\"medianhouseholdincome\"] < 0, \"medianhouseholdincome\"] = np.nan\n",
    "    dictgroup[year].loc[dictgroup[year][\"percapitaincome\"] < 0, \"percapitaincome\"] = np.nan\n",
    "    dictgroup[year].loc[dictgroup[year][\"mediancontractrent\"] < 0, \"mediancontractrent\"] = np.nan\n",
    "    dictgroup[year].loc[dictgroup[year][\"mediangrossrent\"] < 0, \"mediangrossrent\"] = np.nan\n",
    "    dictgroup[year].loc[dictgroup[year][\"medianhomevalue\"] < 0, \"medianhomevalue\"] = np.nan\n",
    "    dictgroup[year].loc[dictgroup[year][\"mediangrossretnaspercentageofhouseholdincome\"] < 0, \"mediangrossretnaspercentageofhouseholdincome\"] = np.nan"
   ]
  },
  {
   "cell_type": "code",
   "execution_count": 37,
   "id": "b3e0f8ff",
   "metadata": {},
   "outputs": [
    {
     "data": {
      "text/plain": [
       "0        <NA>\n",
       "1        <NA>\n",
       "2        <NA>\n",
       "3        <NA>\n",
       "4        <NA>\n",
       "         ... \n",
       "15937    <NA>\n",
       "15938    <NA>\n",
       "15939    <NA>\n",
       "15940    <NA>\n",
       "15941    <NA>\n",
       "Name: totalcivilianlaborforce, Length: 15942, dtype: Int64"
      ]
     },
     "execution_count": 37,
     "metadata": {},
     "output_type": "execute_result"
    }
   ],
   "source": [
    "dictgroup[2010]['totalcivilianlaborforce']"
   ]
  },
  {
   "cell_type": "code",
   "execution_count": 38,
   "id": "0dfb3b07",
   "metadata": {},
   "outputs": [
    {
     "name": "stdout",
     "output_type": "stream",
     "text": [
      "GEOID20BG                                           0\n",
      "year                                                0\n",
      "msa                                                 0\n",
      "state                                               0\n",
      "county                                              0\n",
      "tract                                               0\n",
      "blockgroup                                          0\n",
      "population                                          0\n",
      "totalcivilianlaborforce                         15942\n",
      "unemployedpopulation                            15942\n",
      "totalhousingunits                                   0\n",
      "vacanthousingunits                                  0\n",
      "medianhouseholdincome                              36\n",
      "percapitaincome                                    13\n",
      "mediancontractrent                               2128\n",
      "mediangrossrent                                  2097\n",
      "medianhomevalue                                   291\n",
      "mediangrossretnaspercentageofhouseholdincome     1828\n",
      "dtype: int64\n",
      "GEOID20BG                                          0\n",
      "year                                               0\n",
      "msa                                                0\n",
      "state                                              0\n",
      "county                                             0\n",
      "tract                                              0\n",
      "blockgroup                                         0\n",
      "population                                         0\n",
      "totalcivilianlaborforce                            0\n",
      "unemployedpopulation                               0\n",
      "totalhousingunits                                  0\n",
      "vacanthousingunits                                 0\n",
      "medianhouseholdincome                             40\n",
      "percapitaincome                                   11\n",
      "mediancontractrent                              1948\n",
      "mediangrossrent                                 1778\n",
      "medianhomevalue                                  235\n",
      "mediangrossretnaspercentageofhouseholdincome    1643\n",
      "dtype: int64\n",
      "GEOID20BG                                          0\n",
      "year                                               0\n",
      "msa                                                0\n",
      "state                                              0\n",
      "county                                             0\n",
      "tract                                              0\n",
      "blockgroup                                         0\n",
      "population                                         0\n",
      "totalcivilianlaborforce                            0\n",
      "unemployedpopulation                               0\n",
      "totalhousingunits                                  0\n",
      "vacanthousingunits                                 0\n",
      "medianhouseholdincome                             47\n",
      "percapitaincome                                   17\n",
      "mediancontractrent                              1703\n",
      "mediangrossrent                                 1631\n",
      "medianhomevalue                                  301\n",
      "mediangrossretnaspercentageofhouseholdincome    1459\n",
      "dtype: int64\n",
      "GEOID20BG                                          0\n",
      "year                                               0\n",
      "msa                                                0\n",
      "state                                              0\n",
      "county                                             0\n",
      "tract                                              0\n",
      "blockgroup                                         0\n",
      "population                                         0\n",
      "totalcivilianlaborforce                            0\n",
      "unemployedpopulation                               0\n",
      "totalhousingunits                                  0\n",
      "vacanthousingunits                                 0\n",
      "medianhouseholdincome                             53\n",
      "percapitaincome                                   15\n",
      "mediancontractrent                              2542\n",
      "mediangrossrent                                 2551\n",
      "medianhomevalue                                  359\n",
      "mediangrossretnaspercentageofhouseholdincome    2545\n",
      "dtype: int64\n",
      "GEOID20BG                                          0\n",
      "year                                               0\n",
      "msa                                                0\n",
      "state                                              0\n",
      "county                                             0\n",
      "tract                                              0\n",
      "blockgroup                                         0\n",
      "population                                         0\n",
      "totalcivilianlaborforce                            0\n",
      "unemployedpopulation                               0\n",
      "totalhousingunits                                  0\n",
      "vacanthousingunits                                 0\n",
      "medianhouseholdincome                             55\n",
      "percapitaincome                                   17\n",
      "mediancontractrent                              2335\n",
      "mediangrossrent                                 2344\n",
      "medianhomevalue                                  360\n",
      "mediangrossretnaspercentageofhouseholdincome    2350\n",
      "dtype: int64\n",
      "GEOID20BG                                          0\n",
      "year                                               0\n",
      "msa                                                0\n",
      "state                                              0\n",
      "county                                             0\n",
      "tract                                              0\n",
      "blockgroup                                         0\n",
      "population                                         0\n",
      "totalcivilianlaborforce                            0\n",
      "unemployedpopulation                               0\n",
      "totalhousingunits                                  0\n",
      "vacanthousingunits                                 0\n",
      "medianhouseholdincome                           5281\n",
      "percapitaincome                                   19\n",
      "mediancontractrent                              2675\n",
      "mediangrossrent                                 2623\n",
      "medianhomevalue                                  549\n",
      "mediangrossretnaspercentageofhouseholdincome    2234\n",
      "dtype: int64\n",
      "GEOID20BG                                          0\n",
      "year                                               0\n",
      "msa                                                0\n",
      "state                                              0\n",
      "county                                             0\n",
      "tract                                              0\n",
      "blockgroup                                         0\n",
      "population                                         0\n",
      "totalcivilianlaborforce                            0\n",
      "unemployedpopulation                               0\n",
      "totalhousingunits                                  0\n",
      "vacanthousingunits                                 0\n",
      "medianhouseholdincome                            306\n",
      "percapitaincome                                   18\n",
      "mediancontractrent                              2635\n",
      "mediangrossrent                                 2633\n",
      "medianhomevalue                                  568\n",
      "mediangrossretnaspercentageofhouseholdincome    2216\n",
      "dtype: int64\n",
      "GEOID20BG                                          0\n",
      "year                                               0\n",
      "msa                                                0\n",
      "state                                              0\n",
      "county                                             0\n",
      "tract                                              0\n",
      "blockgroup                                         0\n",
      "population                                         0\n",
      "totalcivilianlaborforce                            0\n",
      "unemployedpopulation                               0\n",
      "totalhousingunits                                  0\n",
      "vacanthousingunits                                 0\n",
      "medianhouseholdincome                            341\n",
      "percapitaincome                                    5\n",
      "mediancontractrent                              2731\n",
      "mediangrossrent                                 2629\n",
      "medianhomevalue                                  570\n",
      "mediangrossretnaspercentageofhouseholdincome    2274\n",
      "dtype: int64\n",
      "GEOID20BG                                          0\n",
      "year                                               0\n",
      "msa                                                0\n",
      "state                                              0\n",
      "county                                             0\n",
      "tract                                              0\n",
      "blockgroup                                         0\n",
      "population                                         0\n",
      "totalcivilianlaborforce                            0\n",
      "unemployedpopulation                               0\n",
      "totalhousingunits                                  0\n",
      "vacanthousingunits                                 0\n",
      "medianhouseholdincome                            322\n",
      "percapitaincome                                    6\n",
      "mediancontractrent                              2813\n",
      "mediangrossrent                                 2719\n",
      "medianhomevalue                                  585\n",
      "mediangrossretnaspercentageofhouseholdincome    2352\n",
      "dtype: int64\n",
      "GEOID20BG                                          0\n",
      "year                                               0\n",
      "msa                                                0\n",
      "state                                              0\n",
      "county                                             0\n",
      "tract                                              0\n",
      "blockgroup                                         0\n",
      "population                                         0\n",
      "totalcivilianlaborforce                            0\n",
      "unemployedpopulation                               0\n",
      "totalhousingunits                                  0\n",
      "vacanthousingunits                                 0\n",
      "medianhouseholdincome                            366\n",
      "percapitaincome                                    4\n",
      "mediancontractrent                              2949\n",
      "mediangrossrent                                 2829\n",
      "medianhomevalue                                  616\n",
      "mediangrossretnaspercentageofhouseholdincome    2473\n",
      "dtype: int64\n",
      "GEOID20BG                                       0\n",
      "year                                            0\n",
      "msa                                             0\n",
      "state                                           0\n",
      "county                                          0\n",
      "tract                                           0\n",
      "blockgroup                                      0\n",
      "population                                      0\n",
      "totalcivilianlaborforce                         0\n",
      "unemployedpopulation                            0\n",
      "totalhousingunits                               0\n",
      "vacanthousingunits                              0\n",
      "medianhouseholdincome                           0\n",
      "percapitaincome                                 0\n",
      "mediancontractrent                              0\n",
      "mediangrossrent                                 0\n",
      "medianhomevalue                                 0\n",
      "mediangrossretnaspercentageofhouseholdincome    0\n",
      "dtype: int64\n",
      "GEOID20BG                                       0\n",
      "year                                            0\n",
      "msa                                             0\n",
      "state                                           0\n",
      "county                                          0\n",
      "tract                                           0\n",
      "blockgroup                                      0\n",
      "population                                      0\n",
      "totalcivilianlaborforce                         0\n",
      "unemployedpopulation                            0\n",
      "totalhousingunits                               0\n",
      "vacanthousingunits                              0\n",
      "medianhouseholdincome                           0\n",
      "percapitaincome                                 0\n",
      "mediancontractrent                              0\n",
      "mediangrossrent                                 0\n",
      "medianhomevalue                                 0\n",
      "mediangrossretnaspercentageofhouseholdincome    0\n",
      "dtype: int64\n",
      "year                                               0\n",
      "population                                         0\n",
      "medianhouseholdincome                            994\n",
      "percapitaincome                                   38\n",
      "totalcivilianlaborforce                            0\n",
      "unemployedpopulation                               0\n",
      "totalhousingunits                                  0\n",
      "vacanthousingunits                                 0\n",
      "mediancontractrent                              4740\n",
      "mediangrossrent                                 4693\n",
      "mediangrossretnaspercentageofhouseholdincome    4135\n",
      "medianhomevalue                                 1150\n",
      "geoid                                              0\n",
      "statefp                                            0\n",
      "countyfp                                           0\n",
      "tract                                              0\n",
      "blockgroup                                         0\n",
      "statecountyfp                                      0\n",
      "msa                                                0\n",
      "state                                              0\n",
      "county                                             0\n",
      "GEOID20BG                                          0\n",
      "dtype: int64\n"
     ]
    }
   ],
   "source": [
    "for year in keys:\n",
    "    print(dictgroup[year].isnull().sum())"
   ]
  },
  {
   "cell_type": "code",
   "execution_count": 39,
   "id": "fcbabb0d",
   "metadata": {},
   "outputs": [],
   "source": [
    "dataframe = pd.concat(dictgroup.values())"
   ]
  },
  {
   "cell_type": "code",
   "execution_count": 40,
   "id": "89752c30",
   "metadata": {},
   "outputs": [
    {
     "data": {
      "text/html": [
       "<div>\n",
       "<style scoped>\n",
       "    .dataframe tbody tr th:only-of-type {\n",
       "        vertical-align: middle;\n",
       "    }\n",
       "\n",
       "    .dataframe tbody tr th {\n",
       "        vertical-align: top;\n",
       "    }\n",
       "\n",
       "    .dataframe thead th {\n",
       "        text-align: right;\n",
       "    }\n",
       "</style>\n",
       "<table border=\"1\" class=\"dataframe\">\n",
       "  <thead>\n",
       "    <tr style=\"text-align: right;\">\n",
       "      <th></th>\n",
       "      <th>GEOID20BG</th>\n",
       "    </tr>\n",
       "    <tr>\n",
       "      <th>year</th>\n",
       "      <th></th>\n",
       "    </tr>\n",
       "  </thead>\n",
       "  <tbody>\n",
       "    <tr>\n",
       "      <th>1990</th>\n",
       "      <td>15977</td>\n",
       "    </tr>\n",
       "    <tr>\n",
       "      <th>2000</th>\n",
       "      <td>11539</td>\n",
       "    </tr>\n",
       "    <tr>\n",
       "      <th>2010</th>\n",
       "      <td>15942</td>\n",
       "    </tr>\n",
       "    <tr>\n",
       "      <th>2011</th>\n",
       "      <td>15949</td>\n",
       "    </tr>\n",
       "    <tr>\n",
       "      <th>2012</th>\n",
       "      <td>15954</td>\n",
       "    </tr>\n",
       "    <tr>\n",
       "      <th>2013</th>\n",
       "      <td>15954</td>\n",
       "    </tr>\n",
       "    <tr>\n",
       "      <th>2014</th>\n",
       "      <td>15957</td>\n",
       "    </tr>\n",
       "    <tr>\n",
       "      <th>2015</th>\n",
       "      <td>15957</td>\n",
       "    </tr>\n",
       "    <tr>\n",
       "      <th>2016</th>\n",
       "      <td>15957</td>\n",
       "    </tr>\n",
       "    <tr>\n",
       "      <th>2017</th>\n",
       "      <td>15944</td>\n",
       "    </tr>\n",
       "    <tr>\n",
       "      <th>2018</th>\n",
       "      <td>15944</td>\n",
       "    </tr>\n",
       "    <tr>\n",
       "      <th>2019</th>\n",
       "      <td>15942</td>\n",
       "    </tr>\n",
       "    <tr>\n",
       "      <th>2020</th>\n",
       "      <td>15525</td>\n",
       "    </tr>\n",
       "  </tbody>\n",
       "</table>\n",
       "</div>"
      ],
      "text/plain": [
       "      GEOID20BG\n",
       "year           \n",
       "1990      15977\n",
       "2000      11539\n",
       "2010      15942\n",
       "2011      15949\n",
       "2012      15954\n",
       "2013      15954\n",
       "2014      15957\n",
       "2015      15957\n",
       "2016      15957\n",
       "2017      15944\n",
       "2018      15944\n",
       "2019      15942\n",
       "2020      15525"
      ]
     },
     "execution_count": 40,
     "metadata": {},
     "output_type": "execute_result"
    }
   ],
   "source": [
    "g = dataframe.groupby(['GEOID20BG', 'year']).agg({'tract': 'count'}).reset_index()\n",
    "g.groupby('year').agg({'GEOID20BG': 'count'})"
   ]
  },
  {
   "cell_type": "code",
   "execution_count": 41,
   "id": "c4d0ef48",
   "metadata": {
    "scrolled": true
   },
   "outputs": [
    {
     "data": {
      "text/html": [
       "<div>\n",
       "<style scoped>\n",
       "    .dataframe tbody tr th:only-of-type {\n",
       "        vertical-align: middle;\n",
       "    }\n",
       "\n",
       "    .dataframe tbody tr th {\n",
       "        vertical-align: top;\n",
       "    }\n",
       "\n",
       "    .dataframe thead th {\n",
       "        text-align: right;\n",
       "    }\n",
       "</style>\n",
       "<table border=\"1\" class=\"dataframe\">\n",
       "  <thead>\n",
       "    <tr style=\"text-align: right;\">\n",
       "      <th></th>\n",
       "      <th>GEOID20BG</th>\n",
       "    </tr>\n",
       "    <tr>\n",
       "      <th>year</th>\n",
       "      <th></th>\n",
       "    </tr>\n",
       "  </thead>\n",
       "  <tbody>\n",
       "    <tr>\n",
       "      <th>1</th>\n",
       "      <td>14</td>\n",
       "    </tr>\n",
       "    <tr>\n",
       "      <th>2</th>\n",
       "      <td>9</td>\n",
       "    </tr>\n",
       "    <tr>\n",
       "      <th>3</th>\n",
       "      <td>6</td>\n",
       "    </tr>\n",
       "    <tr>\n",
       "      <th>5</th>\n",
       "      <td>4</td>\n",
       "    </tr>\n",
       "    <tr>\n",
       "      <th>6</th>\n",
       "      <td>13</td>\n",
       "    </tr>\n",
       "    <tr>\n",
       "      <th>7</th>\n",
       "      <td>1</td>\n",
       "    </tr>\n",
       "    <tr>\n",
       "      <th>8</th>\n",
       "      <td>3</td>\n",
       "    </tr>\n",
       "    <tr>\n",
       "      <th>10</th>\n",
       "      <td>9</td>\n",
       "    </tr>\n",
       "    <tr>\n",
       "      <th>11</th>\n",
       "      <td>84</td>\n",
       "    </tr>\n",
       "    <tr>\n",
       "      <th>12</th>\n",
       "      <td>4663</td>\n",
       "    </tr>\n",
       "    <tr>\n",
       "      <th>13</th>\n",
       "      <td>11184</td>\n",
       "    </tr>\n",
       "  </tbody>\n",
       "</table>\n",
       "</div>"
      ],
      "text/plain": [
       "      GEOID20BG\n",
       "year           \n",
       "1            14\n",
       "2             9\n",
       "3             6\n",
       "5             4\n",
       "6            13\n",
       "7             1\n",
       "8             3\n",
       "10            9\n",
       "11           84\n",
       "12         4663\n",
       "13        11184"
      ]
     },
     "execution_count": 41,
     "metadata": {},
     "output_type": "execute_result"
    }
   ],
   "source": [
    "g = g.groupby(['GEOID20BG']).agg({'year': 'count'}).reset_index()\n",
    "g.groupby('year').agg({'GEOID20BG': 'count'})"
   ]
  },
  {
   "cell_type": "markdown",
   "id": "2591497d",
   "metadata": {},
   "source": [
    "# Save all progress to pickles"
   ]
  },
  {
   "cell_type": "code",
   "execution_count": 42,
   "id": "4d0813ee",
   "metadata": {},
   "outputs": [],
   "source": [
    "# save dataframe \"dataframe\" into pickle file\n",
    "pickle_out = open('allcrosswalkeddatadf_new.pickle', 'wb')\n",
    "pickle.dump(dataframe, pickle_out)\n",
    "pickle_out.close()"
   ]
  },
  {
   "cell_type": "code",
   "execution_count": 43,
   "id": "f9f50611",
   "metadata": {},
   "outputs": [],
   "source": [
    "# save dictionary \"dictgroup\" into new pickle file\n",
    "pickle_out = open('allcrosswalkeddictionary_new.pickle', 'wb')\n",
    "pickle.dump(dictgroup, pickle_out)\n",
    "pickle_out.close()"
   ]
  }
 ],
 "metadata": {
  "kernelspec": {
   "display_name": "Python 3 (ipykernel)",
   "language": "python",
   "name": "python3"
  },
  "language_info": {
   "codemirror_mode": {
    "name": "ipython",
    "version": 3
   },
   "file_extension": ".py",
   "mimetype": "text/x-python",
   "name": "python",
   "nbconvert_exporter": "python",
   "pygments_lexer": "ipython3",
   "version": "3.9.12"
  }
 },
 "nbformat": 4,
 "nbformat_minor": 5
}
